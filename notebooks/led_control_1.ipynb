{
 "cells": [
  {
   "cell_type": "code",
   "execution_count": 1,
   "id": "d4f3af50-9f91-4b16-a63b-da966783f08a",
   "metadata": {
    "extensions": {
     "jupyter_dashboards": {
      "activeView": "grid_default",
      "views": {
       "grid_default": {
        "col": null,
        "height": 2,
        "hidden": true,
        "row": null,
        "width": 2
       }
      }
     }
    }
   },
   "outputs": [
    {
     "data": {
      "application/javascript": [
       "\n",
       "try {\n",
       "require(['notebook/js/codecell'], function(codecell) {\n",
       "  codecell.CodeCell.options_default.highlight_modes[\n",
       "      'magic_text/x-csrc'] = {'reg':[/^%%microblaze/]};\n",
       "  Jupyter.notebook.events.one('kernel_ready.Kernel', function(){\n",
       "      Jupyter.notebook.get_cells().map(function(cell){\n",
       "          if (cell.cell_type == 'code'){ cell.auto_highlight(); } }) ;\n",
       "  });\n",
       "});\n",
       "} catch (e) {};\n"
      ]
     },
     "metadata": {},
     "output_type": "display_data"
    },
    {
     "data": {
      "application/javascript": [
       "\n",
       "try {\n",
       "require(['notebook/js/codecell'], function(codecell) {\n",
       "  codecell.CodeCell.options_default.highlight_modes[\n",
       "      'magic_text/x-csrc'] = {'reg':[/^%%pybind11/]};\n",
       "  Jupyter.notebook.events.one('kernel_ready.Kernel', function(){\n",
       "      Jupyter.notebook.get_cells().map(function(cell){\n",
       "          if (cell.cell_type == 'code'){ cell.auto_highlight(); } }) ;\n",
       "  });\n",
       "});\n",
       "} catch (e) {};\n"
      ]
     },
     "metadata": {},
     "output_type": "display_data"
    }
   ],
   "source": [
    "from pynq.overlays.base import BaseOverlay\n",
    "\n",
    "ol = BaseOverlay('base.bit')"
   ]
  },
  {
   "cell_type": "code",
   "execution_count": 2,
   "id": "7935d32a-bd64-4935-a936-4e1c66510c0b",
   "metadata": {
    "extensions": {
     "jupyter_dashboards": {
      "activeView": "grid_default",
      "views": {
       "grid_default": {
        "col": null,
        "height": 2,
        "hidden": true,
        "row": null,
        "width": 2
       }
      }
     }
    }
   },
   "outputs": [],
   "source": [
    "from pynq.lib import MicroblazeLibrary\n",
    "\n",
    "lib = MicroblazeLibrary(ol.ARDUINO, ['spi', 'gpio'])"
   ]
  },
  {
   "cell_type": "code",
   "execution_count": 3,
   "id": "d8a26ed4-d273-44a0-83c0-96847dabffa0",
   "metadata": {
    "extensions": {
     "jupyter_dashboards": {
      "activeView": "grid_default",
      "views": {
       "grid_default": {
        "col": null,
        "height": 2,
        "hidden": true,
        "row": null,
        "width": 2
       }
      }
     }
    }
   },
   "outputs": [],
   "source": [
    "# RPC handle to control DACs through SPI\n",
    "dac = lib.spi_open(13, 12, 11, 17)\n",
    "\n",
    "# chip select for DAC A and DAC B - initialise to 'high' (slave disabled)\n",
    "cs_a = lib.gpio_open(10)\n",
    "cs_b = lib.gpio_open(2)\n",
    "\n",
    "cs_a.set_direction(lib.GPIO_OUT)\n",
    "cs_a.write(1)\n",
    "\n",
    "cs_b.set_direction(lib.GPIO_OUT)\n",
    "cs_b.write(1)\n",
    "\n",
    "# RPC handle for switches control through GPIO - initialise to 'high' (switch open)\n",
    "switches = [lib.gpio_open(3),\n",
    "            lib.gpio_open(4),\n",
    "            lib.gpio_open(5),\n",
    "            lib.gpio_open(6),\n",
    "            lib.gpio_open(7),\n",
    "            lib.gpio_open(8),\n",
    "            lib.gpio_open(9),\n",
    "            lib.gpio_open(14),\n",
    "            lib.gpio_open(15),\n",
    "            lib.gpio_open(16)]\n",
    "\n",
    "for sw in switches:\n",
    "    sw.set_direction(lib.GPIO_OUT)\n",
    "    sw.write(1) # low for close switch"
   ]
  },
  {
   "cell_type": "code",
   "execution_count": 4,
   "id": "11825af5-16b7-4b3a-b20c-8e7285abd9f9",
   "metadata": {
    "extensions": {
     "jupyter_dashboards": {
      "activeView": "grid_default",
      "views": {
       "grid_default": {
        "col": null,
        "height": 2,
        "hidden": true,
        "row": null,
        "width": 2
       }
      }
     }
    }
   },
   "outputs": [],
   "source": [
    "LTC2662_CMD_POWER_DOWN_N = 0x40\n",
    "LTC2662_CMD_SPAN = 0x60\n",
    "LTC2662_CMD_WRITE_N_UPDATE_N = 0x30\n",
    "\n",
    "# function to transfer block through SPI\n",
    "def dac_write(cs_handle, dac_command, selected_dac, code):\n",
    "    tx_array = bytearray(4)\n",
    "    rx_array = bytearray(4)\n",
    "    \n",
    "    dac_code = bytearray(2)\n",
    "    dac_code[:] = bytearray(int.to_bytes(code, 2, 'little'))\n",
    "    \n",
    "    tx_array[0] = 0 # first byte is zero\n",
    "    tx_array[1] = dac_command | selected_dac # command is upper 4 bits, selected DAC is lower 4 bits\n",
    "    tx_array[2] = dac_code[1]\n",
    "    tx_array[3] = dac_code[0]\n",
    "    \n",
    "    cs_handle.write(0)\n",
    "    dac.transfer(tx_array, rx_array, 4) # 4 bytes data to read\n",
    "    cs_handle.write(1)\n",
    "    \n",
    "    fault_reg = rx_array[0]\n",
    "    \n",
    "    return fault_reg"
   ]
  },
  {
   "cell_type": "code",
   "execution_count": 5,
   "id": "dda5b3a4-5b65-4a34-bd36-bd33adee2839",
   "metadata": {
    "extensions": {
     "jupyter_dashboards": {
      "activeView": "grid_default",
      "views": {
       "grid_default": {
        "col": null,
        "height": 2,
        "hidden": true,
        "row": null,
        "width": 2
       }
      }
     }
    }
   },
   "outputs": [],
   "source": [
    "def switch_control(sw, open_close):\n",
    "    \"\"\" Opens/closes switches in the switch arrays based on 'sw' argument\n",
    "        'open_close' = '1' is switch closed and '0' is switch open\n",
    "    \"\"\"\n",
    "    if(open_close):\n",
    "        switches[sw-1].write(0)\n",
    "    else:\n",
    "        switches[sw-1].write(1)\n",
    "\n",
    "def dac_config(channel, current_ref):\n",
    "    \"\"\" sets softspan range of all DACs based on 'current_ref'\n",
    "    \"\"\"\n",
    "    fault_reg = 0\n",
    "    \n",
    "    selected_dac = (channel - 1) % 5\n",
    "    \n",
    "    user_command = 0\n",
    "    \n",
    "    if(current_ref == 0):\n",
    "        user_command = 1\n",
    "    elif(current_ref == 1):\n",
    "        user_command = 2\n",
    "    elif(current_ref == 2):\n",
    "        user_command = 3\n",
    "    elif(current_ref == 3):\n",
    "        user_command = 4\n",
    "    elif(current_ref == 4):\n",
    "        user_command = 5\n",
    "    elif(current_ref == 5):\n",
    "        user_command = 6\n",
    "        \n",
    "    if(channel > 0 and channel <= 5):\n",
    "        fault_reg |= dac_write(cs_a, LTC2662_CMD_SPAN, selected_dac, user_command)\n",
    "    elif(channel > 5 and channel <= 10):\n",
    "        fault_reg |= dac_write(cs_b, LTC2662_CMD_SPAN, selected_dac, user_command)\n",
    "        \n",
    "    return fault_reg\n",
    "        \n",
    "def dac_channel_control(channel, on_off, current_code):\n",
    "    \"\"\" Switches on/off DAC channel indicated by 'channel' argument and considers both DACs\n",
    "        'channel' => 1->10\n",
    "        'on_off' => '1' is on and '0' is off\n",
    "        'current_code' => current value in DAC counts\n",
    "    \"\"\"\n",
    "    fault_reg = 0\n",
    "    \n",
    "    selected_dac = (channel - 1) % 5\n",
    "    \n",
    "    if(current_code == 0):\n",
    "        on_off = 0\n",
    "        \n",
    "    dac_code = current_code\n",
    "    \n",
    "    if(on_off):\n",
    "        if(channel > 0 and channel <= 5):\n",
    "            fault_reg |= dac_write(cs_a, LTC2662_CMD_WRITE_N_UPDATE_N, selected_dac, dac_code)\n",
    "        elif(channel > 5 and channel <= 10):\n",
    "            fault_reg |= dac_write(cs_b, LTC2662_CMD_WRITE_N_UPDATE_N, selected_dac, dac_code)            \n",
    "    else:\n",
    "        if(channel > 0 and channel <= 5):\n",
    "            fault_reg |= dac_write(cs_a, LTC2662_CMD_POWER_DOWN_N, selected_dac, 0)\n",
    "        elif(channel > 5 and channel <= 10):\n",
    "            fault_reg |= dac_write(cs_b, LTC2662_CMD_POWER_DOWN_N, selected_dac, 0)\n",
    "            \n",
    "    return fault_reg"
   ]
  },
  {
   "cell_type": "markdown",
   "id": "1e8a89d7-2b83-41fb-a32b-0a386a64bf05",
   "metadata": {
    "extensions": {
     "jupyter_dashboards": {
      "activeView": "grid_default",
      "views": {
       "grid_default": {
        "col": null,
        "height": 2,
        "hidden": true,
        "row": null,
        "width": 2
       }
      }
     }
    }
   },
   "source": [
    "# testing"
   ]
  },
  {
   "cell_type": "code",
   "execution_count": 12,
   "id": "9e4ad587-f8de-4c0e-a7da-44fa8b3c4102",
   "metadata": {
    "extensions": {
     "jupyter_dashboards": {
      "activeView": "grid_default",
      "views": {
       "grid_default": {
        "col": null,
        "height": 2,
        "hidden": true,
        "row": null,
        "width": 2
       }
      }
     }
    },
    "tags": []
   },
   "outputs": [],
   "source": [
    "# SWITCH OFF ALL DAC CHANNELS\n",
    "for i in range(10):\n",
    "    dac_channel_control(i+1, 0, 0)"
   ]
  },
  {
   "cell_type": "code",
   "execution_count": 7,
   "id": "659366bc-87a1-499d-a00f-b6aeadf3dcd3",
   "metadata": {
    "extensions": {
     "jupyter_dashboards": {
      "activeView": "grid_default",
      "views": {
       "grid_default": {
        "col": null,
        "height": 2,
        "hidden": true,
        "row": null,
        "width": 2
       }
      }
     }
    },
    "tags": []
   },
   "outputs": [],
   "source": [
    "# SET SOFTSPAN RANGE FOR ALL DACS\n",
    "for i in range(10):\n",
    "    dac_config(i+1, 5)"
   ]
  },
  {
   "cell_type": "code",
   "execution_count": 8,
   "id": "9a6752c1-5460-49af-89d3-209d87d59efa",
   "metadata": {
    "extensions": {
     "jupyter_dashboards": {
      "activeView": "grid_default",
      "views": {
       "grid_default": {
        "col": null,
        "height": 2,
        "hidden": true,
        "row": null,
        "width": 2
       }
      }
     }
    }
   },
   "outputs": [],
   "source": [
    "# # ALL SWITCHES CLOSE\n",
    "# for i in range(10):\n",
    "#     switch_control(i+1, 1)"
   ]
  },
  {
   "cell_type": "code",
   "execution_count": 9,
   "id": "4e9d2aa5-9e99-48be-b3e9-37eecd927ba2",
   "metadata": {
    "extensions": {
     "jupyter_dashboards": {
      "activeView": "grid_default",
      "views": {
       "grid_default": {
        "col": null,
        "height": 2,
        "hidden": true,
        "row": null,
        "width": 2
       }
      }
     }
    }
   },
   "outputs": [],
   "source": [
    "# # ALL LEDS ON\n",
    "# for i in range(10):\n",
    "#     dac_channel_control(i+1, 1, 16384)"
   ]
  },
  {
   "cell_type": "markdown",
   "id": "722f6bea-fba6-44a8-abf5-b8744159bb05",
   "metadata": {
    "extensions": {
     "jupyter_dashboards": {
      "activeView": "grid_default",
      "views": {
       "grid_default": {
        "col": null,
        "height": 2,
        "hidden": true,
        "row": null,
        "width": 2
       }
      }
     }
    }
   },
   "source": [
    "# dashboard test"
   ]
  },
  {
   "cell_type": "code",
   "execution_count": 10,
   "id": "cb3dc9d1-d257-4177-8daf-92f010928cb8",
   "metadata": {
    "extensions": {
     "jupyter_dashboards": {
      "activeView": "grid_default",
      "views": {
       "grid_default": {
        "col": null,
        "height": 2,
        "hidden": true,
        "row": null,
        "width": 2
       }
      }
     }
    }
   },
   "outputs": [],
   "source": [
    "import ipywidgets as widgets\n",
    "\n",
    "hbox = widgets.Box(layout=widgets.Layout(display='inline-flex', flex_flow='row nowrap', justify_content='space-between'))\n",
    "\n",
    "vbox1 = widgets.Box(layout=widgets.Layout(display='inline-flex', flex_flow='column nowrap', justify_content='flex-start', border='solid 1px blue'))\n",
    "\n",
    "channel_select = widgets.Dropdown(options=range(1,11), layout={'width' : '100px'})\n",
    "switch_select = widgets.Dropdown(options=range(1,11))\n",
    "\n",
    "vbox1.children += (widgets.Label(value='select channel:'), channel_select, widgets.Label(value='select switch:'), switch_select,)\n",
    "\n",
    "hbox.children += (vbox1,)\n",
    "\n",
    "vbox2 = widgets.Box(layout=widgets.Layout(display='inline-flex', flex_flow='column nowrap', justify_content='flex-start', border='solid 1px blue'))\n",
    "\n",
    "brightness_slider = widgets.IntSlider(desription='dac counts: ', value=8192, min=0, max=65535)\n",
    "led_on_button = widgets.Button(description='LED on')\n",
    "led_off_button = widgets.Button(description='LED off')\n",
    "switch_open_button = widgets.Button(description='open switch')\n",
    "switch_close_button = widgets.Button(description='close switch')\n",
    "\n",
    "vbox2.children += (brightness_slider, led_on_button, led_off_button, switch_open_button, switch_close_button)\n",
    "\n",
    "import functools\n",
    "\n",
    "def dac_channel_control_wrapper(channel_select, on_off, brightness_slider, btn):\n",
    "    dac_channel_control(channel_select.value, on_off, brightness_slider.value)\n",
    "    \n",
    "def switch_control_wrapper(switch_select, open_close, btn):\n",
    "    switch_control(switch_select.value, open_close)\n",
    "\n",
    "led_on_button.on_click(functools.partial(dac_channel_control_wrapper, channel_select, 1, brightness_slider))\n",
    "led_off_button.on_click(functools.partial(dac_channel_control_wrapper, channel_select, 0, brightness_slider))\n",
    "switch_open_button.on_click(functools.partial(switch_control_wrapper, switch_select, 0))\n",
    "switch_close_button.on_click(functools.partial(switch_control_wrapper, switch_select, 1))\n",
    "\n",
    "hbox.children += (vbox2,)"
   ]
  },
  {
   "cell_type": "code",
   "execution_count": 11,
   "id": "378606c9-89aa-41b4-806b-bba62dbdda97",
   "metadata": {
    "extensions": {
     "jupyter_dashboards": {
      "activeView": "grid_default",
      "views": {
       "grid_default": {
        "col": null,
        "height": 2,
        "hidden": true,
        "row": null,
        "width": 2
       }
      }
     }
    }
   },
   "outputs": [
    {
     "data": {
      "application/vnd.jupyter.widget-view+json": {
       "model_id": "bdcccdfa1357496682d9e6f595467f97",
       "version_major": 2,
       "version_minor": 0
      },
      "text/plain": [
       "Box(children=(Box(children=(Label(value='select channel:'), Dropdown(layout=Layout(width='100px'), options=(1,…"
      ]
     },
     "metadata": {},
     "output_type": "display_data"
    }
   ],
   "source": [
    "hbox"
   ]
  },
  {
   "cell_type": "code",
   "execution_count": 10,
   "id": "73121358-a216-4961-884b-8609f3016a20",
   "metadata": {
    "extensions": {
     "jupyter_dashboards": {
      "activeView": "grid_default",
      "views": {
       "grid_default": {
        "col": 0,
        "height": 3,
        "hidden": false,
        "row": 0,
        "width": 6
       }
      }
     }
    }
   },
   "outputs": [
    {
     "data": {
      "application/vnd.jupyter.widget-view+json": {
       "model_id": "a09e6c7513fc4fbca196a5b69a5c8582",
       "version_major": 2,
       "version_minor": 0
      },
      "text/plain": [
       "Box(children=(Label(value='select channel:'), Dropdown(layout=Layout(width='100px'), options=(1, 2, 3, 4, 5, 6…"
      ]
     },
     "metadata": {},
     "output_type": "display_data"
    }
   ],
   "source": [
    "vbox1"
   ]
  },
  {
   "cell_type": "code",
   "execution_count": 11,
   "id": "887f80d6-f510-448a-ba3b-cee1e2f31689",
   "metadata": {
    "extensions": {
     "jupyter_dashboards": {
      "activeView": "grid_default",
      "views": {
       "grid_default": {
        "col": 0,
        "height": 4,
        "hidden": false,
        "row": 3,
        "width": 12
       }
      }
     }
    },
    "tags": []
   },
   "outputs": [
    {
     "data": {
      "application/vnd.jupyter.widget-view+json": {
       "model_id": "87b6538cc6e74f559f7067da1fe8bed3",
       "version_major": 2,
       "version_minor": 0
      },
      "text/plain": [
       "Box(children=(IntSlider(value=8192, max=65535), Button(description='LED on', style=ButtonStyle()), Button(desc…"
      ]
     },
     "metadata": {},
     "output_type": "display_data"
    }
   ],
   "source": [
    "vbox2"
   ]
  },
  {
   "cell_type": "code",
   "execution_count": 16,
   "id": "7675fa3a-9a57-446b-bce9-fb5179b0a4e1",
   "metadata": {
    "extensions": {
     "jupyter_dashboards": {
      "activeView": "grid_default",
      "views": {
       "grid_default": {
        "col": null,
        "height": 2,
        "hidden": true,
        "row": null,
        "width": 2
       }
      }
     }
    }
   },
   "outputs": [
    {
     "data": {
      "application/vnd.jupyter.widget-view+json": {
       "model_id": "44861f04b0b64c359e48bf157852dbf2",
       "version_major": 2,
       "version_minor": 0
      },
      "text/plain": [
       "Button(style=ButtonStyle())"
      ]
     },
     "metadata": {},
     "output_type": "display_data"
    }
   ],
   "source": [
    "widgets.Button()"
   ]
  },
  {
   "cell_type": "markdown",
   "id": "f8a6f459-8fa3-471f-8ec3-c3be53af6726",
   "metadata": {
    "extensions": {
     "jupyter_dashboards": {
      "activeView": "grid_default",
      "views": {
       "grid_default": {
        "col": 0,
        "height": 2,
        "hidden": false,
        "row": 7,
        "width": 12
       }
      }
     }
    }
   },
   "source": [
    "# hearlight"
   ]
  }
 ],
 "metadata": {
  "extensions": {
   "jupyter_dashboards": {
    "activeView": "grid_default",
    "version": 1,
    "views": {
     "grid_default": {
      "cellMargin": 2,
      "defaultCellHeight": 60,
      "maxColumns": 12,
      "name": "grid",
      "type": "grid"
     }
    }
   }
  },
  "kernelspec": {
   "display_name": "Python 3",
   "language": "python",
   "name": "python3"
  },
  "language_info": {
   "codemirror_mode": {
    "name": "ipython",
    "version": 3
   },
   "file_extension": ".py",
   "mimetype": "text/x-python",
   "name": "python",
   "nbconvert_exporter": "python",
   "pygments_lexer": "ipython3",
   "version": "3.8.2"
  }
 },
 "nbformat": 4,
 "nbformat_minor": 5
}
