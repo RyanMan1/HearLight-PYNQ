{
 "cells": [
  {
   "cell_type": "code",
   "execution_count": 1,
   "id": "40f15107-80a3-4fd2-98b0-39addd5d8b11",
   "metadata": {
    "extensions": {
     "jupyter_dashboards": {
      "activeView": "grid_default",
      "views": {
       "grid_default": {
        "col": null,
        "height": 2,
        "hidden": true,
        "row": null,
        "width": 2
       }
      }
     }
    },
    "tags": []
   },
   "outputs": [],
   "source": [
    "from hearlight import HearLight\n",
    "from IPython.display import display"
   ]
  },
  {
   "cell_type": "code",
   "execution_count": 2,
   "id": "c170484b-ae24-4abe-81d5-bf84086c0e82",
   "metadata": {
    "extensions": {
     "jupyter_dashboards": {
      "activeView": "grid_default",
      "views": {
       "grid_default": {
        "col": null,
        "height": 2,
        "hidden": true,
        "row": null,
        "width": 2
       }
      }
     }
    }
   },
   "outputs": [],
   "source": [
    "dashboard = HearLight()"
   ]
  },
  {
   "cell_type": "code",
   "execution_count": 3,
   "id": "74e9a2ad-e4aa-4eac-b4c0-72432e6ef477",
   "metadata": {
    "extensions": {
     "jupyter_dashboards": {
      "activeView": "grid_default",
      "views": {
       "grid_default": {
        "col": 0,
        "height": 7,
        "hidden": false,
        "row": 0,
        "width": 9
       }
      }
     }
    },
    "tags": []
   },
   "outputs": [
    {
     "data": {
      "application/vnd.jupyter.widget-view+json": {
       "model_id": "7e3ec478762c4d348052e58ae7c9fe60",
       "version_major": 2,
       "version_minor": 0
      },
      "text/plain": [
       "Box(children=(HTML(value='\\n<style>\\n    .adv_toggle_button{\\n    }\\n    \\n    .log{\\n        height : 98%;\\n …"
      ]
     },
     "metadata": {},
     "output_type": "display_data"
    }
   ],
   "source": [
    "dashboard.main_control_panel"
   ]
  },
  {
   "cell_type": "code",
   "execution_count": 4,
   "id": "519bbb8b-5f6f-4e0a-b3a2-b4823a5f2293",
   "metadata": {
    "extensions": {
     "jupyter_dashboards": {
      "activeView": "grid_default",
      "views": {
       "grid_default": {
        "col": 0,
        "height": 9,
        "hidden": false,
        "row": 7,
        "width": 11
       }
      }
     }
    },
    "tags": []
   },
   "outputs": [
    {
     "data": {
      "application/vnd.jupyter.widget-view+json": {
       "model_id": "4c0f7586d9f641d7a3b9455112299825",
       "version_major": 2,
       "version_minor": 0
      },
      "text/plain": [
       "Box(children=(HTML(value='\\n<style>\\n    .adv_toggle_button{\\n    }\\n    \\n    .log{\\n        height : 98%;\\n …"
      ]
     },
     "metadata": {},
     "output_type": "display_data"
    }
   ],
   "source": [
    "dashboard.led_control_panel"
   ]
  },
  {
   "cell_type": "code",
   "execution_count": 5,
   "id": "778ea64d-8d9d-409f-a921-2d72720d16e7",
   "metadata": {
    "extensions": {
     "jupyter_dashboards": {
      "activeView": "grid_default",
      "views": {
       "grid_default": {
        "col": null,
        "height": 2,
        "hidden": true,
        "row": null,
        "width": 2
       }
      }
     }
    }
   },
   "outputs": [],
   "source": [
    "# control_array.irr_to_current_upload"
   ]
  },
  {
   "cell_type": "code",
   "execution_count": null,
   "id": "dd5f61b1-7236-4f3d-88aa-75b273ef62d0",
   "metadata": {
    "extensions": {
     "jupyter_dashboards": {
      "activeView": "grid_default",
      "views": {
       "grid_default": {
        "col": null,
        "height": 2,
        "hidden": true,
        "row": null,
        "width": 2
       }
      }
     }
    }
   },
   "outputs": [],
   "source": [
    "# control_array.current_to_irr_upload"
   ]
  },
  {
   "cell_type": "code",
   "execution_count": null,
   "id": "6ac5d355-16e6-45c8-8b32-ec83983d01df",
   "metadata": {
    "extensions": {
     "jupyter_dashboards": {
      "activeView": "grid_default",
      "views": {
       "grid_default": {
        "col": null,
        "height": 2,
        "hidden": true,
        "row": null,
        "width": 2
       }
      }
     }
    },
    "tags": []
   },
   "outputs": [],
   "source": [
    "# # TEST READING COEFFICIENT FILES AND APPLYING REGRESSION\n",
    "\n",
    "# # open file and read irradiance to current regression coefficients\n",
    "# data_str = control_array.irr_to_current_upload.data[0].decode(\"utf-8\").split('\\n')[0:-1]\n",
    "\n",
    "# #\n",
    "# #\n",
    "# #\n",
    "# irr_test = 15\n",
    "# led_max_current = 100\n",
    "# channel_max_current = 100\n",
    "# switch_max_current = 130\n",
    "# device_max_current = 400\n",
    "# #\n",
    "# #\n",
    "# #\n",
    "\n",
    "# # get regression coefficients as 2D numpy array\n",
    "# polynomial_order = len(data_str[0].split(',')) - 1\n",
    "# coeffs_matrix = np.reshape(np.asarray([d.split(',') for d in data_str]).astype(float), (10,10,polynomial_order+1))\n",
    "\n",
    "# if irr_test == 0 or np.array_equal(control_array.indicate_leds.matrix_output, np.zeros(shape=(N_SWITCHES, N_CHANNELS))):\n",
    "#     required_currents = np.zeros(shape=(N_SWITCHES, N_CHANNELS), dtype=float)\n",
    "#     channel_currents = np.zeros(shape=(1,N_CHANNELS), dtype=float)\n",
    "#     actual_led_irradiances = np.zeros(shape=(N_SWITCHES, N_CHANNELS), dtype=float)\n",
    "    \n",
    "# else:\n",
    "#     # get matrix of required currents\n",
    "#     irr_matrix = np.array([[irr_test] * N_CHANNELS for _ in range(N_SWITCHES)])\n",
    "#     required_currents = np.asarray([[np.poly1d(coeffs)(irr_test) for coeffs in coeffs_matrix[r]] for r in range(N_SWITCHES)]) * control_array.indicate_leds.matrix_output\n",
    "\n",
    "#     # check if individual LED maximum current is being exceeded and set to maximum if so\n",
    "#     required_currents[required_currents > led_max_current] = led_max_current\n",
    "\n",
    "#     # get required channel currents from matrix of required currents unless required currents all zero\n",
    "#     channel_currents = np.zeros(shape=(1,N_CHANNELS), dtype=float)\n",
    "#     if not np.array_equal(required_currents, np.zeros(shape=(N_SWITCHES, N_CHANNELS))):\n",
    "#         n_switches_closed = control_array.switch_states[0].sum()\n",
    "#         channel_currents[0][control_array.channel_states[0]] = np.amin(required_currents[control_array.switch_states[0],:][:,control_array.channel_states[0]], axis=0) * n_switches_closed\n",
    "\n",
    "#     # check if channel current exceeded for any channel\n",
    "#     channel_currents[0][channel_currents[0] > channel_max_current] = channel_max_current\n",
    "    \n",
    "#     # check if any switch current exceeded\n",
    "#     #\n",
    "#     # ADD WARNING MESSAGES HERE!\n",
    "#     #\n",
    "#     requested_switch_current = np.sum(channel_currents[0]) / n_switches_closed\n",
    "#     if requested_switch_current > switch_max_current:\n",
    "#         channel_currents[0] = channel_currents[0] / requested_switch_current * switch_max_current\n",
    "        \n",
    "#     # check if maximum device current exceeded\n",
    "#     requested_device_current = np.sum(channel_currents[0])\n",
    "#     if requested_device_current > device_max_current:\n",
    "#         channel_currents[0] = channel_currents[0] / requested_device_current * device_max_current\n",
    "        \n",
    "#     # implement regression to display ACTUAL irradiances based on the supplied current\n",
    "#     data_str = control_array.current_to_irr_upload.data[0].decode(\"utf-8\").split('\\n')[0:-1]\n",
    "    \n",
    "#     polynomial_order = len(data_str[0].split(',')) - 1\n",
    "#     coeffs_matrix = np.reshape(np.asarray([d.split(',') for d in data_str]).astype(float), (10,10,polynomial_order+1))\n",
    "#     actual_led_irradiances = np.asarray([[np.poly1d(coeffs_matrix[r][c])(channel_currents[0][c]/n_switches_closed) for c in range(N_CHANNELS)] for r in range(N_SWITCHES)]) * control_array.indicate_leds.matrix_output"
   ]
  },
  {
   "cell_type": "code",
   "execution_count": null,
   "id": "268eb1ee-af6e-4c11-bf02-dc7408a7282f",
   "metadata": {
    "extensions": {
     "jupyter_dashboards": {
      "activeView": "grid_default",
      "views": {
       "grid_default": {
        "col": null,
        "height": 2,
        "hidden": true,
        "row": null,
        "width": 2
       }
      }
     }
    }
   },
   "outputs": [],
   "source": [
    "#channel_currents"
   ]
  },
  {
   "cell_type": "code",
   "execution_count": null,
   "id": "add228d8-c1da-4663-a26f-9cd3c016a97c",
   "metadata": {
    "extensions": {
     "jupyter_dashboards": {
      "activeView": "grid_default",
      "views": {
       "grid_default": {
        "col": null,
        "height": 2,
        "hidden": true,
        "row": null,
        "width": 2
       }
      }
     }
    }
   },
   "outputs": [],
   "source": [
    "#actual_led_irradiances"
   ]
  },
  {
   "cell_type": "code",
   "execution_count": null,
   "id": "b33fb086-27df-4c05-8f6e-87a8e7bf8957",
   "metadata": {
    "extensions": {
     "jupyter_dashboards": {
      "activeView": "grid_default",
      "views": {
       "grid_default": {
        "col": null,
        "height": 2,
        "hidden": true,
        "row": null,
        "width": 2
       }
      }
     }
    }
   },
   "outputs": [],
   "source": []
  }
 ],
 "metadata": {
  "extensions": {
   "jupyter_dashboards": {
    "activeView": "grid_default",
    "version": 1,
    "views": {
     "grid_default": {
      "cellMargin": 2,
      "defaultCellHeight": 60,
      "maxColumns": 12,
      "name": "grid",
      "type": "grid"
     }
    }
   }
  },
  "kernelspec": {
   "display_name": "Python 3 (ipykernel)",
   "language": "python",
   "name": "python3"
  },
  "language_info": {
   "codemirror_mode": {
    "name": "ipython",
    "version": 3
   },
   "file_extension": ".py",
   "mimetype": "text/x-python",
   "name": "python",
   "nbconvert_exporter": "python",
   "pygments_lexer": "ipython3",
   "version": "3.9.7"
  }
 },
 "nbformat": 4,
 "nbformat_minor": 5
}
