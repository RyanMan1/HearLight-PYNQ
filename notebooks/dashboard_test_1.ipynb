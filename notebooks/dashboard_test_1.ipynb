{
 "cells": [
  {
   "cell_type": "markdown",
   "id": "9b5be986-18f0-4a66-a5a3-e189a837b007",
   "metadata": {
    "extensions": {
     "jupyter_dashboards": {
      "activeView": "grid_default",
      "views": {
       "grid_default": {
        "col": 0,
        "height": 6,
        "hidden": true,
        "row": 0,
        "width": 6
       }
      }
     }
    },
    "tags": []
   },
   "source": [
    "<img src='logo.png'"
   ]
  },
  {
   "cell_type": "code",
   "execution_count": 1,
   "id": "7576fe1f-67fe-4485-857f-f3cc059ab38f",
   "metadata": {},
   "outputs": [],
   "source": [
    "from hearlight import css"
   ]
  },
  {
   "cell_type": "code",
   "execution_count": 2,
   "id": "9f649c37-1915-4265-bc12-31d8e4cbf4fb",
   "metadata": {
    "extensions": {
     "jupyter_dashboards": {
      "activeView": "grid_default",
      "views": {
       "grid_default": {
        "col": null,
        "height": 2,
        "hidden": true,
        "row": null,
        "width": 2
       }
      }
     }
    }
   },
   "outputs": [
    {
     "data": {
      "application/vnd.jupyter.widget-view+json": {
       "model_id": "f5be9c304198448f88e7948684768b1a",
       "version_major": 2,
       "version_minor": 0
      },
      "text/plain": [
       "Button(style=ButtonStyle())"
      ]
     },
     "metadata": {},
     "output_type": "display_data"
    }
   ],
   "source": [
    "import ipywidgets as widgets\n",
    "\n",
    "widgets.Button()"
   ]
  }
 ],
 "metadata": {
  "extensions": {
   "jupyter_dashboards": {
    "activeView": "grid_default",
    "version": 1,
    "views": {
     "grid_default": {
      "cellMargin": 2,
      "defaultCellHeight": 60,
      "maxColumns": 12,
      "name": "grid",
      "type": "grid"
     }
    }
   }
  },
  "kernelspec": {
   "display_name": "Python 3",
   "language": "python",
   "name": "python3"
  },
  "language_info": {
   "codemirror_mode": {
    "name": "ipython",
    "version": 3
   },
   "file_extension": ".py",
   "mimetype": "text/x-python",
   "name": "python",
   "nbconvert_exporter": "python",
   "pygments_lexer": "ipython3",
   "version": "3.8.2"
  }
 },
 "nbformat": 4,
 "nbformat_minor": 5
}
