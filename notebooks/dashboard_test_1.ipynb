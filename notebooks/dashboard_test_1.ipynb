{
 "cells": [
  {
   "cell_type": "code",
   "execution_count": 3,
   "id": "40f15107-80a3-4fd2-98b0-39addd5d8b11",
   "metadata": {
    "extensions": {
     "jupyter_dashboards": {
      "activeView": "grid_default",
      "views": {
       "grid_default": {
        "col": null,
        "height": 2,
        "hidden": true,
        "row": null,
        "width": 2
       }
      }
     }
    },
    "tags": []
   },
   "outputs": [],
   "source": [
    "import hearlight\n",
    "import ipywidgets as widgets\n",
    "import numpy as np\n",
    "import functools"
   ]
  },
  {
   "cell_type": "code",
   "execution_count": 53,
   "id": "bdbf5a97-9a8e-48b0-aa9a-12d442766c69",
   "metadata": {
    "extensions": {
     "jupyter_dashboards": {
      "activeView": "grid_default",
      "views": {
       "grid_default": {
        "col": null,
        "height": 2,
        "hidden": true,
        "row": null,
        "width": 2
       }
      }
     }
    }
   },
   "outputs": [
    {
     "data": {
      "text/html": [
       "<style>\n",
       "    .section_heading{\n",
       "        background-color : yellow;\n",
       "    }\n",
       "</style>\n"
      ],
      "text/plain": [
       "<IPython.core.display.HTML object>"
      ]
     },
     "metadata": {},
     "output_type": "display_data"
    }
   ],
   "source": [
    "%%html\n",
    "<style>\n",
    "    .section_heading{\n",
    "        background-color : yellow;\n",
    "    }\n",
    "</style>"
   ]
  },
  {
   "cell_type": "code",
   "execution_count": 2,
   "id": "1b0db928-02c9-4aa8-80ba-e1d7e87e94c1",
   "metadata": {
    "collapsed": true,
    "extensions": {
     "jupyter_dashboards": {
      "activeView": "grid_default",
      "views": {
       "grid_default": {
        "col": 2,
        "height": 7,
        "hidden": false,
        "row": 0,
        "width": 9
       }
      }
     }
    },
    "jupyter": {
     "outputs_hidden": true
    },
    "tags": []
   },
   "outputs": [
    {
     "data": {
      "application/vnd.jupyter.widget-view+json": {
       "model_id": "e3dadb7b6d7247afbb3f141b232c01ab",
       "version_major": 2,
       "version_minor": 0
      },
      "text/plain": [
       "Box(children=(Box(children=(HTML(value='<b>&nbsp;System Setup</b>', _dom_classes=('section_heading',)), Box(ch…"
      ]
     },
     "metadata": {},
     "output_type": "display_data"
    }
   ],
   "source": [
    "class MainControlPanel():\n",
    "    def __init__(self):\n",
    "        # dropdown to select device (probe or test matrix)\n",
    "        self.select_device = widgets.Dropdown(options=['Test matrix', 'Probe 1'], layout = {'width' : '100%'})\n",
    "        \n",
    "        # dropdown to select shield version\n",
    "        self.select_shield = widgets.Dropdown(options=['HearLight shield v1'], layout = {'width' : '100%'})\n",
    "        \n",
    "        # toggle button for simple or advanced mode\n",
    "        self.adv_toggle_button = widgets.ToggleButton(description='Advanced', value=False, disabled=True)\n",
    "        self.adv_toggle_button.add_class('adv_toggle_button')\n",
    "        \n",
    "        # dropdown to select overlay to program\n",
    "        self.overlay_select = widgets.Dropdown(options=['Base overlay'], layout = {'width' : '100%'})\n",
    "        \n",
    "        # button to program bitstream\n",
    "        self.program_overlay_button = widgets.Button(description='Program FPGA', icon='download')\n",
    "        \n",
    "        # dropdown for maximum LED current\n",
    "        self.led_max_current_select = widgets.Dropdown(options=[30, 100], value=30, disabled=True, layout = {'width' : '100%'})\n",
    "        \n",
    "        # entry boxes for maximum channel, switch and device currents \n",
    "        self.channel_max_current_select = widgets.FloatText(value=100, disabled=True, layout = {'width' : '100%'})\n",
    "        \n",
    "        self.switch_max_current_select = widgets.FloatText(value=130, disabled=True, layout = {'width' : '100%'})\n",
    "        \n",
    "        self.device_max_current_select = widgets.FloatText(value=400, disabled=True, layout = {'width' : '100%'})\n",
    "        \n",
    "        # dropdown for DAC reference current\n",
    "        self.dac_ref = widgets.Dropdown(options=[3.125, 6.25, 12.5, 25, 50, 100], value=100, disabled=True, layout = {'width' : '100%'})\n",
    "        self.dac_ref.add_class('dac_ref')        \n",
    "        self.dac_ref_commands = {'3.125' : 1, '6.25' : 2, '12.5' : 3, '25' : 4, '50' : 5, '100' : 6}\n",
    "        \n",
    "        # file uploads for irradiance to current regression coefficients\n",
    "        self.irr_to_current_upload = widgets.FileUpload(accept='.dat', multiple=False, disabled=True)\n",
    "        self.irr_to_current_upload_path = widgets.HTML(value='<i style=\"color:blue;\">No file selected!</i>')\n",
    "        \n",
    "        # file upload for current to irradiance regression coefficients \n",
    "        self.current_to_irr_upload = widgets.FileUpload(accept='.dat', multiple=False, disabled=True)\n",
    "        self.current_to_irr_upload_path = widgets.HTML(value='<i style=\"color:blue;\">No file selected!</i>')\n",
    "        \n",
    "        # text box for error log\n",
    "        self.log = widgets.Textarea(value='', disabled=False)\n",
    "        self.log.add_class('log')\n",
    "        \n",
    "        # button to start protocol\n",
    "        self.start_button = widgets.Button(description='START', icon='play')\n",
    "        self.start_button.add_class('start_button')\n",
    "        \n",
    "        # button to stop program running\n",
    "        self.stop_button = widgets.Button(description='STOP', icon='stop')\n",
    "        self.stop_button.add_class('stop_button')\n",
    "        \n",
    "        # button for 'real-time' mode\n",
    "        self.real_time_button = widgets.ToggleButton(description='Real-time mode')\n",
    "        \n",
    "        self.layout_panel()\n",
    "        \n",
    "    def layout_panel(self):\n",
    "        ### main control panel box\n",
    "        self.main_control_panel = widgets.Box()\n",
    "        self.main_control_panel.add_class('main_control_panel_box')\n",
    "        \n",
    "        ## setup box\n",
    "        setup_box = widgets.Box()\n",
    "        setup_box.add_class('setup_box')\n",
    "        self.main_control_panel.children += (setup_box,)\n",
    "        \n",
    "        # basic setup box\n",
    "        basic_setup_box = widgets.Box()\n",
    "        basic_setup_box.add_class('basic_setup_box')\n",
    "        basic_setup_box_heading = widgets.HTML(value='<b>&nbsp;System Setup</b>')\n",
    "        basic_setup_box_heading.add_class('section_heading')\n",
    "        advanced_toggle_button_box = widgets.Box()\n",
    "        advanced_toggle_button_box.add_class('advanced_toggle_button_box')\n",
    "        advanced_toggle_button_box.children += (self.adv_toggle_button, )\n",
    "        setup_box.children += (basic_setup_box_heading, basic_setup_box, advanced_toggle_button_box)\n",
    "        \n",
    "        # basic setup select device box\n",
    "        basic_setup_select_device_box = widgets.Box()\n",
    "        basic_setup_select_device_box.add_class('basic_setup_select_device_box')\n",
    "        select_device_box = widgets.Box()\n",
    "        select_device_box.add_class('label_setting_box')\n",
    "        select_device_box.children += (widgets.Label('Select device: '), self.select_device, )\n",
    "        select_shield_box = widgets.Box()\n",
    "        select_shield_box.add_class('label_setting_box')\n",
    "        select_shield_box.children += (widgets.Label('Select shield: '), self.select_shield, )\n",
    "        basic_setup_select_device_box.children += (select_device_box, \n",
    "                                                   select_shield_box, )\n",
    "        basic_setup_box.children += (basic_setup_select_device_box,)\n",
    "\n",
    "        # basic setup bitstream box\n",
    "        basic_setup_bitstream_box = widgets.Box()\n",
    "        basic_setup_bitstream_box.add_class('basic_setup_bitstream_box')\n",
    "        overlay_select_box = widgets.Box()\n",
    "        overlay_select_box.add_class('label_setting_box')\n",
    "        overlay_select_box.children += (widgets.Label('Choose overlay: '), self.overlay_select, )\n",
    "        basic_setup_bitstream_box.children += (overlay_select_box,)\n",
    "        basic_setup_box.children += (basic_setup_bitstream_box,)\n",
    "        \n",
    "        # basic setup bitstream button box \n",
    "        basic_setup_bitstream_button_box = widgets.Box()\n",
    "        basic_setup_bitstream_button_box.add_class('basic_setup_bitstream_button_box')\n",
    "        basic_setup_bitstream_button_box.children += (self.program_overlay_button, )\n",
    "        basic_setup_bitstream_box.children += (basic_setup_bitstream_button_box,)        \n",
    "\n",
    "        # advanced setup box\n",
    "        advanced_setup_box = widgets.Box()\n",
    "        advanced_setup_box.add_class('advanced_setup_box')\n",
    "        setup_box.children += (advanced_setup_box,)\n",
    "        \n",
    "        # advanced setup settings box\n",
    "        advanced_setup_settings_box = widgets.Box()\n",
    "        advanced_setup_settings_box.add_class('advanced_setup_settings_box')\n",
    "        led_max_current_select_box = widgets.Box()\n",
    "        led_max_current_select_box.add_class('label_setting_box')\n",
    "        led_max_current_select_box.children += (widgets.Label('Max. LED current (mA): '), self.led_max_current_select, )\n",
    "        \n",
    "        channel_max_current_select_box = widgets.Box()\n",
    "        channel_max_current_select_box.add_class('label_setting_box')\n",
    "        channel_max_current_select_box.children += (widgets.Label('Max. channel current (mA): '), self.channel_max_current_select, )\n",
    "        \n",
    "        switch_max_current_select_box = widgets.Box()\n",
    "        switch_max_current_select_box.add_class('label_setting_box')\n",
    "        switch_max_current_select_box.children += (widgets.Label('Max. switch current (mA): '), self.switch_max_current_select, )\n",
    "        \n",
    "        device_max_current_select_box = widgets.Box()\n",
    "        device_max_current_select_box.add_class('label_setting_box')\n",
    "        device_max_current_select_box.children += (widgets.Label('Max. device current (mA): '), self.device_max_current_select, )\n",
    "\n",
    "        dac_ref_box = widgets.Box()\n",
    "        dac_ref_box.add_class('label_setting_box')\n",
    "        dac_ref_box.children += (widgets.Label('DAC reference (mA): '), self.dac_ref, )\n",
    "        \n",
    "        advanced_setup_settings_box.children += (#self.adv_toggle_button,\n",
    "                                                 led_max_current_select_box, \n",
    "                                                 channel_max_current_select_box, \n",
    "                                                 switch_max_current_select_box, \n",
    "                                                 device_max_current_select_box, \n",
    "                                                 dac_ref_box, )\n",
    "        advanced_setup_box.children += (advanced_setup_settings_box,)\n",
    "        \n",
    "        # advanced setup files box\n",
    "        advanced_setup_files_box = widgets.Box()\n",
    "        advanced_setup_files_box.add_class('advanced_setup_files_box')\n",
    "        advanced_setup_box.children += (advanced_setup_files_box,)\n",
    "        \n",
    "        # advanced setup irr to current box\n",
    "        advanced_setup_irr_to_current_box = widgets.Box()\n",
    "        advanced_setup_irr_to_current_box.add_class('label_setting_box')\n",
    "        advanced_setup_irr_to_current_box.children += (widgets.Label('Irradiance to current file: '), self.irr_to_current_upload, )\n",
    "        advanced_setup_irr_to_current_box.children += (self.irr_to_current_upload_path, )\n",
    "        advanced_setup_files_box.children += (advanced_setup_irr_to_current_box, )\n",
    "\n",
    "        # advanced setup current to irr box\n",
    "        advanced_setup_current_to_irr_box = widgets.Box()\n",
    "        advanced_setup_current_to_irr_box.add_class('label_setting_box')\n",
    "        advanced_setup_current_to_irr_box.children += (widgets.Label('Current to irradiance file: '), self.current_to_irr_upload, )\n",
    "        advanced_setup_current_to_irr_box.children += (self.current_to_irr_upload_path, )\n",
    "        advanced_setup_files_box.children += (advanced_setup_current_to_irr_box, )\n",
    "        \n",
    "        ## interact box\n",
    "        interact_box = widgets.Box()\n",
    "        interact_box.add_class('interact_box')\n",
    "        self.main_control_panel.children += (interact_box,)\n",
    "        \n",
    "        # interact box heading\n",
    "        interact_box_heading = widgets.HTML(value='<b>&nbsp;Log</b>')\n",
    "        interact_box_heading.add_class('section_heading')\n",
    "        interact_box.children += (interact_box_heading,)\n",
    "        \n",
    "        # interact log box\n",
    "        interact_log_box = widgets.Box()\n",
    "        interact_log_box.add_class('interact_log_box')\n",
    "        interact_log_box.children += (self.log, )\n",
    "        interact_box.children += (interact_log_box,)\n",
    "        \n",
    "        # interact control box heading\n",
    "        interact_box_heading = widgets.HTML(value='<b>&nbsp;System Control</b>')\n",
    "        interact_box_heading.add_class('section_heading')\n",
    "        interact_box.children += (interact_box_heading,)\n",
    "        \n",
    "        # interact start/stop button box\n",
    "        interact_start_stop_box = widgets.Box()\n",
    "        interact_start_stop_box.add_class('interact_start_stop_box')\n",
    "        interact_start_stop_box.children += (self.start_button,\n",
    "                                             self.stop_button, \n",
    "                                             self.real_time_button, )\n",
    "        interact_box.children += (interact_start_stop_box,)\n",
    "        \n",
    "\n",
    "main_control_panel = MainControlPanel()\n",
    "\n",
    "main_control_panel.main_control_panel"
   ]
  },
  {
   "cell_type": "code",
   "execution_count": 3,
   "id": "9f649c37-1915-4265-bc12-31d8e4cbf4fb",
   "metadata": {
    "extensions": {
     "jupyter_dashboards": {
      "activeView": "grid_default",
      "views": {
       "grid_default": {
        "col": null,
        "height": 2,
        "hidden": true,
        "row": null,
        "width": 2
       }
      }
     }
    },
    "tags": []
   },
   "outputs": [],
   "source": [
    "N_SWITCHES = 10\n",
    "N_CHANNELS = 10\n",
    "\n",
    "import copy\n",
    "\n",
    "class SelectLEDs():\n",
    "    def __init__(self, control_array):\n",
    "        self.control_array = control_array\n",
    "        \n",
    "        self.led_grid = widgets.Box()\n",
    "        self.led_grid.add_class('led_grid')\n",
    "        \n",
    "        self.leds_clicked = [[False] * N_CHANNELS for _ in range(N_SWITCHES)]\n",
    "        \n",
    "        # TEMPORARY TO SPEED UP INTERFACE...\n",
    "#         for row in range(N_SWITCHES):\n",
    "#             for col in range(N_CHANNELS):\n",
    "#                 led_indicator = widgets.Button()\n",
    "#                 led_indicator.add_class('led_indicator')\n",
    "#                 led_indicator.on_click(self.led_clicked)\n",
    "#                 setattr(led_indicator, 'led_row_idx', row)\n",
    "#                 setattr(led_indicator, 'led_col_idx', col)\n",
    "#                 led_indicator.layout.grid_area = f'{row}{col}'\n",
    "                \n",
    "#                 button_box = widgets.Box()\n",
    "#                 button_box.layout.width='40px'\n",
    "#                 button_box.layout.height='40px'\n",
    "#                 button_box.children += (led_indicator,)\n",
    "                \n",
    "#                 self.led_grid.children += (button_box,)\n",
    "\n",
    "        led_indicator = widgets.Button()\n",
    "        led_indicator.add_class('led_indicator')\n",
    "        led_indicator.on_click(self.led_clicked)\n",
    "        setattr(led_indicator, 'led_row_idx', 0)\n",
    "        setattr(led_indicator, 'led_col_idx', 0)\n",
    "        \n",
    "        button_box = widgets.Box()\n",
    "        button_box.layout.width='40px'\n",
    "        button_box.layout.height='40px'       \n",
    "        \n",
    "        for row in range(N_SWITCHES):\n",
    "            for col in range(N_CHANNELS):\n",
    "                led_indicator_copy = copy.copy(led_indicator)\n",
    "                led_indicator_copy.led_row_idx = row\n",
    "                led_indicator_copy.led_col_idx = col\n",
    "                button_box_copy = copy.copy(button_box)\n",
    "                button_box_copy.children += (led_indicator_copy, )\n",
    "                \n",
    "                self.led_grid.children += (button_box_copy,)\n",
    "\n",
    "    def led_clicked(self, led_indicator):\n",
    "        if self.leds_clicked[led_indicator.led_row_idx][led_indicator.led_col_idx] == False:\n",
    "            led_indicator.add_class('led_indicator_clicked')\n",
    "            self.leds_clicked[led_indicator.led_row_idx][led_indicator.led_col_idx] = True\n",
    "        else:\n",
    "            led_indicator.remove_class('led_indicator_clicked')\n",
    "            self.leds_clicked[led_indicator.led_row_idx][led_indicator.led_col_idx] = False\n",
    "            \n",
    "        self.control_array.get_channel_currents()\n",
    "        self.control_array.get_switch_states()\n",
    "\n",
    "        # update LED indicator\n",
    "        self.control_array.indicate_leds.update_led_indicator(self.control_array.channel_states, self.control_array.switch_states)\n",
    "        \n",
    "        # update channel currents\n",
    "        # TEMPORARILY UNCOMMENT\n",
    "        # self.control_array.regressions.irradiance_to_current(self.control_array.indicate_leds.matrix_output)\n",
    "            \n",
    "class IndicateLEDs():\n",
    "    def __init__(self):\n",
    "        self.led_grid = widgets.Box()\n",
    "        self.led_grid.add_class('led_grid')\n",
    "        \n",
    "        self.matrix_output = np.array([[False] * N_CHANNELS for _ in range(N_SWITCHES)])\n",
    "\n",
    "        # TEMPORARY TO SPEED UP INTERFACE...\n",
    "#         for row in range(N_SWITCHES):\n",
    "#             for col in range(N_CHANNELS):\n",
    "#                 led_indicator = widgets.Box()\n",
    "#                 led_indicator.add_class('led_indicator')\n",
    "#                 setattr(led_indicator, 'led_row_idx', row)\n",
    "#                 setattr(led_indicator, 'led_col_idx', col)\n",
    "#                 led_indicator.layout.grid_area = f'{row}{col}'\n",
    "                \n",
    "#                 led_box = widgets.Box()\n",
    "#                 led_box.layout.width='40px'\n",
    "#                 led_box.layout.height='40px'\n",
    "#                 led_box.children += (led_indicator,)\n",
    "                \n",
    "#                 self.led_grid.children += (led_box,)\n",
    "                \n",
    "        led_indicator = widgets.Box()\n",
    "        led_indicator.add_class('led_indicator')\n",
    "        setattr(led_indicator, 'led_row_idx', 0)\n",
    "        setattr(led_indicator, 'led_col_idx', 0)\n",
    "        \n",
    "        led_box = widgets.Box()\n",
    "        led_box.layout.width='40px'\n",
    "        led_box.layout.height='40px'       \n",
    "        \n",
    "        for row in range(N_SWITCHES):\n",
    "            for col in range(N_CHANNELS):\n",
    "                led_indicator_copy = copy.copy(led_indicator)\n",
    "                led_indicator_copy.led_row_idx = row\n",
    "                led_indicator_copy.led_col_idx = col\n",
    "                led_box_copy = copy.copy(led_box)\n",
    "                led_box_copy.children += (led_indicator_copy, )\n",
    "                \n",
    "                self.led_grid.children += (led_box_copy,)\n",
    "                \n",
    "    def led_off(self, row, col):\n",
    "        self.led_grid.children[row * N_SWITCHES + col].children[0].remove_class('led_indicator_clicked')\n",
    "        \n",
    "    def led_on(self, row, col):\n",
    "        self.led_grid.children[row * N_SWITCHES + col].children[0].add_class('led_indicator_clicked')\n",
    "        \n",
    "    def update_led_indicator(self, channel_states, switch_states):\n",
    "        self.matrix_output = np.matmul(np.transpose(switch_states), channel_states)\n",
    "        \n",
    "        # MAKE THIS MORE EFFICIENT???\n",
    "        #\n",
    "        #\n",
    "        #\n",
    "        for row in range(N_SWITCHES):\n",
    "            if switch_states[0][row] == False:\n",
    "                for c in range(N_CHANNELS):\n",
    "                    self.led_off(row, c)\n",
    "                continue\n",
    "            for col in range(N_CHANNELS):\n",
    "                if channel_states[0][col] == False:\n",
    "                    self.led_off(row, col)\n",
    "                else:\n",
    "                    self.led_on(row, col)\n",
    "                    \n",
    "class Regressions():\n",
    "    def __init__(self, peak_irr_select):\n",
    "        self.peak_irr_select = peak_irr_select\n",
    "        \n",
    "    def irradiance_to_current(self, matrix_output):\n",
    "        pass\n",
    "    \n",
    "    def current_to_irradiance(self):\n",
    "        pass\n",
    "    \n",
    "\n",
    "class ControlArray():\n",
    "    def __init__(self):\n",
    "        \n",
    "        self.select_leds = SelectLEDs(self)\n",
    "        self.indicate_leds = IndicateLEDs()\n",
    "        \n",
    "        self.main_control_panel = MainControlPanel()\n",
    "        # TEMPORARILY COMMENTED\n",
    "        #self.led_control_panel = LEDControlPanel()\n",
    "        #self.regressions = Regressions(self.main_control_panel.peak_irr_select)\n",
    "        #self.main_control_panel.peak_irr_select.observe(functools.partial(self.regressions.irradiance_to_current, self.indicate_leds.matrix_output), ['value'])\n",
    "        \n",
    "        self.channel_states = np.array([False] * N_CHANNELS, ndmin=2)  # channel off is false\n",
    "        self.switch_states = np.array([False] * N_SWITCHES, ndmin=2) # switches open is false\n",
    "        \n",
    "        self.channel_currents = np.array([0] * N_CHANNELS) # measured in mA\n",
    "        \n",
    "        self.channel_counts = np.array([0] * N_CHANNELS) # measured in DAC counts (0 -> 65535)\n",
    "        \n",
    "        # TEMP ##\n",
    "        self.dac_ref = widgets.Dropdown(options=[3.125, 6.25, 12.5, 25, 50, 100], value=100, disabled=True, layout = {'width' : '100%'})\n",
    "    \n",
    "    def get_channel_currents(self):\n",
    "        channel_states = np.array([False] * N_CHANNELS)\n",
    "        for select_led_row in np.array(self.select_leds.leds_clicked):\n",
    "            channel_states = channel_states | select_led_row\n",
    "        self.channel_states[0] = channel_states\n",
    "        \n",
    "        self.channel_counts = ((self.channel_currents / self.dac_ref.value * (2**16-1)) * self.channel_states[0].astype(int)).astype(int)\n",
    "    \n",
    "    def get_switch_states(self):\n",
    "        switch_states = np.array([False] * N_SWITCHES)\n",
    "        for select_led_col in np.transpose(np.array(self.select_leds.leds_clicked)):\n",
    "            switch_states = switch_states | select_led_col\n",
    "        self.switch_states[0] = switch_states\n",
    "        "
   ]
  },
  {
   "cell_type": "code",
   "execution_count": 4,
   "id": "0ffa08d5-13e1-4ec5-b437-de25eb8ab0d0",
   "metadata": {
    "extensions": {
     "jupyter_dashboards": {
      "activeView": "grid_default",
      "views": {
       "grid_default": {
        "col": null,
        "height": 2,
        "hidden": true,
        "row": null,
        "width": 2
       }
      }
     }
    }
   },
   "outputs": [],
   "source": [
    "control_array = ControlArray()"
   ]
  },
  {
   "cell_type": "code",
   "execution_count": 5,
   "id": "0c1384f0-b2e4-4c9e-b547-0ad0cf1dde5c",
   "metadata": {
    "extensions": {
     "jupyter_dashboards": {
      "activeView": "grid_default",
      "views": {
       "grid_default": {
        "col": null,
        "height": 2,
        "hidden": true,
        "row": null,
        "width": 2
       }
      }
     }
    },
    "tags": []
   },
   "outputs": [],
   "source": [
    "#control_array.select_leds.led_grid\n",
    "#control_array.indicate_leds.led_grid"
   ]
  },
  {
   "cell_type": "code",
   "execution_count": 6,
   "id": "77c2f7c5-aa02-451f-8bc2-5eb85832b5d9",
   "metadata": {
    "extensions": {
     "jupyter_dashboards": {
      "activeView": "grid_default",
      "views": {
       "grid_default": {
        "col": null,
        "height": 2,
        "hidden": true,
        "row": null,
        "width": 2
       }
      }
     }
    }
   },
   "outputs": [],
   "source": [
    "class LEDControlPanel():\n",
    "    def __init__(self, control_array):\n",
    "        # led grid to select LEDs\n",
    "        self.select_led_grid = control_array.select_leds.led_grid\n",
    "        \n",
    "        # button to clear selected LEDs\n",
    "        self.clear_leds_button = widgets.Button(description='CLEAR', icon='restart')\n",
    "        self.clear_leds_button.add_class('clear_leds_button')\n",
    "        \n",
    "        # led grid to indicate actual LEDs\n",
    "        self.indicate_led_grid = control_array.indicate_leds.led_grid\n",
    "\n",
    "        # disabled button to indicate trigger signal\n",
    "        self.trigger_signal_button = widgets.Button(disabled=True)\n",
    "        self.trigger_signal_button.add_class('trigger_signal_button')\n",
    "        \n",
    "        # float text for peak irradiance (mW/mm^2)\n",
    "        self.peak_irr_select = widgets.FloatText(min=0, max=100, value=20)\n",
    "        self.peak_irr_select.add_class('peak_irr_select')\n",
    "        \n",
    "        # float text for pulse duration (ms)\n",
    "        self.pulse_duration_select = widgets.FloatText(min=0, value=500)\n",
    "        self.pulse_duration_select.add_class('pulse_duration_select')\n",
    "        \n",
    "        # float text for pulse frequency (Hz)\n",
    "        self.pulse_frequency_select = widgets.FloatText(min=0, value=1)\n",
    "        self.pulse_frequency_select.add_class('pulse_frequency_select')\n",
    "        \n",
    "        # int text for number of pulses\n",
    "        self.no_pulses_select = widgets.IntText(min=0, value=3)\n",
    "        self.no_pulses_select.add_class('no_pulses_select')\n",
    "       \n",
    "        # file upload for complex pattern configuration file\n",
    "        self.complex_pattern_file_upload = widgets.FileUpload(accept='.txt', multiple=False)\n",
    "        self.complex_pattern_file_upload_path = widgets.HTML(value='<i style=\"color:blue;\">No file selected!</i>')\n",
    "        \n",
    "        # text entry to display and allow editing of complex pattern\n",
    "        self.complex_pattern_text = widgets.Textarea()\n",
    "        self.complex_pattern_text.add_class('complex_pattern_text')\n",
    "        \n",
    "        self.layout_panel()\n",
    "        \n",
    "    def layout_panel(self):\n",
    "        \n",
    "        self.led_control_panel = widgets.Box()\n",
    "        self.led_control_panel.add_class('led_control_panel')\n",
    "        \n",
    "        control_leds_panel = widgets.Box()\n",
    "        control_leds_panel.add_class('control_leds_panel')\n",
    "        self.led_control_panel.children += (control_leds_panel, )\n",
    "        \n",
    "        control_leds_panel_heading = widgets.HTML(value='<b>&nbsp;Requested LEDs</b>')\n",
    "        control_leds_panel_heading.add_class('section_heading')\n",
    "        control_leds_panel.children += (control_leds_panel_heading, )        \n",
    "        \n",
    "        control_leds_box = widgets.Box()\n",
    "        control_leds_box.add_class('control_leds_box')\n",
    "        control_leds_box.children += (self.select_led_grid, )\n",
    "        control_leds_panel.children += (control_leds_box, )\n",
    "        \n",
    "        clear_leds_button_box = widgets.Box()\n",
    "        clear_leds_button_box.add_class('clear_leds_button_box')\n",
    "        clear_leds_button_box.children += (self.clear_leds_button, )\n",
    "        control_leds_panel.children += (clear_leds_button_box, )\n",
    "        \n",
    "        indicate_leds_panel = widgets.Box()\n",
    "        indicate_leds_panel.add_class('indicate_leds_panel')\n",
    "        self.led_control_panel.children += (indicate_leds_panel, )\n",
    "\n",
    "        indicate_leds_panel_heading = widgets.HTML(value='<b>&nbsp;Actual LEDs Illuminated</b>')\n",
    "        indicate_leds_panel_heading.add_class('section_heading')\n",
    "        indicate_leds_panel.children += (indicate_leds_panel_heading, )  \n",
    "        \n",
    "        indicate_leds_box = widgets.Box()\n",
    "        indicate_leds_box.add_class('indicate_leds_box')\n",
    "        indicate_leds_box.children += (self.indicate_led_grid, )\n",
    "        indicate_leds_panel.children += (indicate_leds_box, )\n",
    "        \n",
    "        trigger_indicator_box = widgets.Box()\n",
    "        trigger_indicator_box.add_class('trigger_indicator_box')\n",
    "        trigger_indicator_box.children += (widgets.HTML('<b>TRIGGER</b>'), self.trigger_signal_button, )\n",
    "        indicate_leds_panel.children += (trigger_indicator_box, )        \n",
    "        \n",
    "        led_parameters_panel = widgets.Box()\n",
    "        led_parameters_panel.add_class('led_parameters_panel')\n",
    "        self.led_control_panel.children += (led_parameters_panel, )\n",
    "        \n",
    "        config_panel_heading = widgets.HTML(value='<b>&nbsp;Configure Pattern</b>')\n",
    "        config_panel_heading.add_class('section_heading')\n",
    "        led_parameters_panel.children += (config_panel_heading, )\n",
    "        \n",
    "        config_tab = widgets.Tab()\n",
    "        config_tab.add_class('config_tab')\n",
    "        led_parameters_panel.children += (config_tab, )\n",
    "        \n",
    "        simple_config_box = widgets.Box()\n",
    "        simple_config_box.add_class('simple_config_box')\n",
    "        \n",
    "        peak_irr_select_box = widgets.Box()\n",
    "        peak_irr_select_box.add_class('config_setting_box')\n",
    "        peak_irr_select_box.children += (widgets.Label('Peak irradiance (mW/mm^2): '), self.peak_irr_select, )\n",
    "        simple_config_box.children += (peak_irr_select_box, )\n",
    "\n",
    "        pulse_duration_select_box = widgets.Box()\n",
    "        pulse_duration_select_box.add_class('config_setting_box')\n",
    "        pulse_duration_select_box.children += (widgets.Label('Pulse duration (ms): '), self.pulse_duration_select, )\n",
    "        simple_config_box.children += (pulse_duration_select_box, )\n",
    "        \n",
    "        pulse_frequency_select_box = widgets.Box()\n",
    "        pulse_frequency_select_box.add_class('config_setting_box')\n",
    "        pulse_frequency_select_box.children += (widgets.Label('Pulse frequency (Hz): '), self.pulse_frequency_select, )\n",
    "        simple_config_box.children += (pulse_frequency_select_box, )\n",
    "        \n",
    "        no_pulses_select_box = widgets.Box()\n",
    "        no_pulses_select_box.add_class('config_setting_box')\n",
    "        no_pulses_select_box.children += (widgets.Label('Number of pulses: '), self.no_pulses_select, )\n",
    "        simple_config_box.children += (no_pulses_select_box, )\n",
    "        \n",
    "        complex_config_box = widgets.Box()\n",
    "        complex_config_box.add_class('complex_config_box')\n",
    "        \n",
    "        config_file_upload_box = widgets.Box()\n",
    "        config_file_upload_box.add_class('config_file_upload_box')\n",
    "        config_file_upload_box.children += (widgets.Label('Select config file (.txt): '), self.complex_pattern_file_upload,)\n",
    "        complex_config_box.children += (config_file_upload_box,)\n",
    "        complex_config_box.children += (self.complex_pattern_file_upload_path, )\n",
    "        \n",
    "        config_text_box = widgets.Box()\n",
    "        config_text_box.add_class('config_text_box')\n",
    "        config_text_box.children += (self.complex_pattern_text,)\n",
    "        complex_config_box.children += (config_text_box,)\n",
    "        \n",
    "        config_tab.children += (simple_config_box, )\n",
    "        config_tab.set_title(0, 'Single pattern')\n",
    "        config_tab.children += (complex_config_box, )\n",
    "        config_tab.set_title(1, 'Complex pattern')\n",
    "        "
   ]
  },
  {
   "cell_type": "code",
   "execution_count": 7,
   "id": "7bda4e8d-bd40-4205-ad21-2d8925e99b77",
   "metadata": {
    "extensions": {
     "jupyter_dashboards": {
      "activeView": "grid_default",
      "views": {
       "grid_default": {
        "col": null,
        "height": 2,
        "hidden": true,
        "row": null,
        "width": 2
       }
      }
     }
    }
   },
   "outputs": [],
   "source": [
    "led_control_panel = LEDControlPanel(control_array)"
   ]
  },
  {
   "cell_type": "code",
   "execution_count": 8,
   "id": "f421a608-539b-427d-becc-6f17434ddacb",
   "metadata": {
    "extensions": {
     "jupyter_dashboards": {
      "activeView": "grid_default",
      "views": {
       "grid_default": {
        "col": 0,
        "height": 9,
        "hidden": false,
        "row": 7,
        "width": 11
       }
      }
     }
    },
    "tags": []
   },
   "outputs": [
    {
     "data": {
      "application/vnd.jupyter.widget-view+json": {
       "model_id": "d40d000c46a24f01ba5e27b119ac5ec0",
       "version_major": 2,
       "version_minor": 0
      },
      "text/plain": [
       "Box(children=(Box(children=(HTML(value='<b>&nbsp;Requested LEDs</b>', _dom_classes=('section_heading',)), Box(…"
      ]
     },
     "metadata": {},
     "output_type": "display_data"
    }
   ],
   "source": [
    "led_control_panel.led_control_panel"
   ]
  },
  {
   "cell_type": "code",
   "execution_count": null,
   "id": "f3c97f19-1f65-400e-8a89-4c2f2b28bb11",
   "metadata": {
    "extensions": {
     "jupyter_dashboards": {
      "activeView": "grid_default",
      "views": {
       "grid_default": {
        "col": null,
        "height": 2,
        "hidden": true,
        "row": null,
        "width": 2
       }
      }
     }
    }
   },
   "outputs": [
    {
     "data": {
      "text/plain": [
       "'\\n<style>\\n    .adv_toggle_button{\\n    }\\n    \\n    .log{\\n        height : 98%;\\n        width : 100%;\\n        resize : none;\\n    }\\n    \\n    .start_button{\\n        color : green;\\n    }\\n    \\n    .stop_button{\\n        color : red;\\n    }\\n\\n    .section_heading{\\n        background-color : #c7eef0;\\n        #border : solid 2px #c7eef0;\\n        margin : 0;\\n        border-left : solid 5px black;\\n    }\\n\\n    .label_setting_box{\\n        display : grid;\\n        grid-template-columns : 50% 40%;\\n        width : 100%;\\n    }\\n\\n    .main_control_panel_box{\\n        display : flex;\\n        flex-flow : row nowrap;\\n        height : 330px;\\n        width : 1100px;\\n    }\\n    \\n    .setup_box{\\n        display : flex;\\n        flex-flow : column nowrap;\\n        height : 100%;\\n        width : 67%;\\n        border-top : solid 2px #c7eef0;\\n        border-left : solid 2px #c7eef0;\\n        border-bottom : solid 2px #c7eef0;\\n        border-right : solid 2px #c7eef0;\\n    }\\n    \\n    .basic_setup_box{\\n        display : flex;\\n        flex-flow : row nowrap;\\n        height : 25%;\\n        width : 100%;\\n    }\\n    \\n    .advanced_toggle_button_box{\\n        display : flex;\\n        flex-flow : row nowrap;\\n        height : 15%;\\n        width : 100%;\\n        border-bottom : solid 2px #c7eef0;\\n    }\\n    \\n    .basic_setup_select_device_box{\\n        display : flex;\\n        flex-flow : column nowrap;\\n        justify-content : flex-start;\\n        align-items : flex-start;\\n        height : 100%;\\n        width : 100%;\\n    }\\n    \\n    .basic_setup_bitstream_box{\\n        display : flex;\\n        flex-flow : column nowrap;\\n        justify-content : flex-start;\\n        align-items : flex-start;\\n        height : 100%;\\n        width : 100%;\\n    }\\n    \\n    .basic_setup_bitstream_button_box{\\n        display : flex;\\n        flex-flow : row nowrap;\\n        justify-content : flex-start;\\n        align-items : center;\\n        width : 100%;\\n    }\\n    \\n    .advanced_setup_box{\\n        display : flex;\\n        flex-flow : row nowrap;\\n        height : 60%;\\n        width : 100%;\\n    }\\n    \\n    .advanced_setup_settings_box{\\n        display : flex;\\n        flex-flow : column nowrap;\\n        justify-content : flex-start;\\n        align-items : flex-start;        \\n        height : 100%;\\n        width : 50%;\\n    }\\n    \\n    .advanced_setup_files_box{\\n        display : flex;\\n        flex-flow : column nowrap;\\n        justify-content : flex-start;\\n        height : 100%;\\n        width : 50%;\\n    }\\n\\n    .interact_box{\\n        display : flex;\\n        flex-flow : column nowrap;\\n        height : 100%;        \\n        width : 33%;\\n        border-top : solid 2px #c7eef0;\\n        border-bottom : solid 2px #c7eef0;\\n        border-right : solid 2px #c7eef0;\\n    }\\n    \\n    .interact_log_box{\\n        height : 60%;\\n        width : 100%;\\n    }\\n    \\n    .interact_start_stop_box{\\n        display : flex;\\n        flex-flow : row wrap;\\n        justify-content : center;\\n        align-items : center;\\n        align-content : center;\\n        width : 100%;\\n    }\\n\\n    .led_grid{\\n        display : grid;\\n        grid-template-areas : \"00 01 02 03 04 05 06 07 08 09\"\\n                                  \"10 11 12 13 14 15 16 17 18 19\"\\n                                  \"20 21 22 23 24 25 26 27 28 29\"\\n                                  \"30 31 32 33 34 35 36 37 38 39\"\\n                                  \"40 41 42 43 44 45 46 47 48 49\"\\n                                  \"50 51 52 53 54 55 56 57 58 59\"\\n                                  \"60 61 62 63 64 65 66 67 68 69\"\\n                                  \"70 71 72 73 74 75 76 77 78 79\"\\n                                  \"80 81 82 83 84 85 86 87 88 89\"\\n                                  \"90 91 92 93 94 95 96 97 98 99\";\\n        grid-template-rows : repeat(10, 35px);\\n        grid-template-columns : repeat(10, 35px);\\n        height : 360px;\\n        width : 360px;\\n    }\\n    \\n    .led_indicator{\\n        height : 28px;\\n        width : 28px;\\n        background : #c7eef0;\\n        border-style: inset;\\n    }\\n        \\n    .led_indicator_clicked{\\n        background : #12f3ff;\\n        border-style : outset;\\n    }\\n    \\n</style>\\n\\n<style>\\n    .clear_leds_button{\\n        color : orange;\\n    }\\n    \\n    .trigger_signal_button{\\n        height : 35px;\\n        width : 35px;\\n        background-color : #c7eef0;\\n    }\\n\\n    .trigger_signal_button_on{\\n        height : 40px;\\n        width : 40px;\\n        color : red;\\n    }\\n    \\n    .peak_irr_select{\\n        width : 100%;\\n    }\\n    \\n    .pulse_duration_select{\\n        width : 100%;    \\n    }\\n    \\n    .pulse_frequency_select{\\n        width : 100%;    \\n    }\\n    \\n    .no_pulses_select{\\n        width : 100%;    \\n    }\\n    \\n    .complex_pattern_text{\\n        height : 98%;\\n        width : 100%;\\n        resize : none;        \\n    }\\n    \\n    .led_control_panel{\\n        display : flex;\\n        flex-flow : row nowrap;\\n        height : 450px;\\n        width : 1250px;    \\n    }\\n    \\n    .control_leds_panel{\\n        display : flex;\\n        flex-flow : column nowrap;\\n        height : 100%;\\n        width : 35%;\\n        border-top : solid 2px #c7eef0;\\n        border-left : solid 2px #c7eef0;\\n        border-bottom : solid 2px #c7eef0;\\n        border-right : solid 2px #c7eef0;\\n    }\\n    \\n    .control_leds_box{\\n        display : flex;\\n        flex-flow : column nowrap;\\n        justify-content : center;\\n        align-items : center;\\n        height : 89%;\\n        width : 100%;\\n    }\\n    \\n    .clear_leds_button_box{\\n        display : flex;\\n        flex-flow : row nowrap;\\n        justify-content : center;\\n        align-items : center;\\n        height : 10%;\\n        width : 100%;    \\n    }\\n    \\n    .indicate_leds_panel{\\n        display : flex;\\n        flex-flow : column nowrap;\\n        height : 100%;\\n        width : 35%;  \\n        border-top : solid 2px #c7eef0;\\n        border-bottom : solid 2px #c7eef0;\\n        border-right : solid 2px #c7eef0;\\n    }\\n    \\n    .indicate_leds_box{\\n        display : flex;\\n        flex-flow : column nowrap;\\n        justify-content : center;\\n        align-items : center;\\n        height : 90%;\\n        width : 100%;    \\n    }\\n    \\n    .trigger_indicator_box{\\n        display : flex;\\n        flex-flow : row nowrap;\\n        justify-content : center;\\n        align-items : center;\\n        height : 10%;\\n        width : 100%;\\n    }\\n    \\n    .led_parameters_panel{\\n        display : flex;\\n        flex-flow : column nowrap;\\n        height : 100%;\\n        width : 30%;\\n        border-top : solid 2px #c7eef0;\\n        border-bottom : solid 2px #c7eef0;\\n        border-right : solid 2px #c7eef0;\\n    }\\n    \\n    .config_tab{\\n        height : 100%;\\n        width : 98%;\\n    }\\n    \\n    .simple_config_box{\\n        display : flex;\\n        flex-flow : column nowrap;\\n        justify-content : flex-start;\\n        height : 100%;\\n        width : 100%;\\n    }\\n    \\n    .config_setting_box{\\n        display : grid;\\n        grid-template-columns : 55% 35%;\\n        width : 100%;    \\n    }\\n    \\n    .complex_config_box{\\n        display : flex;\\n        flex-flow : column nowrap;\\n        justify-content : flex-start;\\n        height : 100%;\\n        width : 100%;\\n    }\\n    \\n    .config_file_upload_box{\\n        display : grid;\\n        grid-template-columns : 50% 40%;\\n        height : 15%;\\n        width : 100%;        \\n    }\\n    \\n    .config_text_box{\\n        height : 85%;\\n        width : 100%;\\n    }\\n    \\n</style>\\n'"
      ]
     },
     "metadata": {},
     "output_type": "display_data"
    }
   ],
   "source": [
    "#display(hearlight.css)"
   ]
  },
  {
   "cell_type": "code",
   "execution_count": null,
   "id": "8ca523c9-1d88-42d8-be82-3d17ae660e9c",
   "metadata": {
    "extensions": {
     "jupyter_dashboards": {
      "activeView": "grid_default",
      "views": {
       "grid_default": {
        "col": null,
        "height": 2,
        "hidden": true,
        "row": null,
        "width": 2
       }
      }
     }
    }
   },
   "outputs": [],
   "source": []
  },
  {
   "cell_type": "code",
   "execution_count": null,
   "id": "9e19f12e-c634-41cc-985e-65cc8873ba0e",
   "metadata": {
    "extensions": {
     "jupyter_dashboards": {
      "activeView": "grid_default",
      "views": {
       "grid_default": {
        "col": null,
        "height": 2,
        "hidden": true,
        "row": null,
        "width": 2
       }
      }
     }
    }
   },
   "outputs": [],
   "source": []
  },
  {
   "cell_type": "code",
   "execution_count": 7,
   "id": "778ea64d-8d9d-409f-a921-2d72720d16e7",
   "metadata": {
    "extensions": {
     "jupyter_dashboards": {
      "activeView": "grid_default",
      "views": {
       "grid_default": {
        "col": null,
        "height": 2,
        "hidden": true,
        "row": null,
        "width": 2
       }
      }
     }
    }
   },
   "outputs": [
    {
     "ename": "AttributeError",
     "evalue": "'ControlArray' object has no attribute 'irr_to_current_upload'",
     "output_type": "error",
     "traceback": [
      "\u001b[1;31m---------------------------------------------------------------------------\u001b[0m",
      "\u001b[1;31mAttributeError\u001b[0m                            Traceback (most recent call last)",
      "\u001b[1;32m~\\AppData\\Local\\Temp/ipykernel_6128/3656161316.py\u001b[0m in \u001b[0;36m<module>\u001b[1;34m\u001b[0m\n\u001b[1;32m----> 1\u001b[1;33m \u001b[0mcontrol_array\u001b[0m\u001b[1;33m.\u001b[0m\u001b[0mirr_to_current_upload\u001b[0m\u001b[1;33m\u001b[0m\u001b[1;33m\u001b[0m\u001b[0m\n\u001b[0m",
      "\u001b[1;31mAttributeError\u001b[0m: 'ControlArray' object has no attribute 'irr_to_current_upload'"
     ]
    }
   ],
   "source": [
    "control_array.irr_to_current_upload"
   ]
  },
  {
   "cell_type": "code",
   "execution_count": 8,
   "id": "dd5f61b1-7236-4f3d-88aa-75b273ef62d0",
   "metadata": {
    "extensions": {
     "jupyter_dashboards": {
      "activeView": "grid_default",
      "views": {
       "grid_default": {
        "col": null,
        "height": 2,
        "hidden": true,
        "row": null,
        "width": 2
       }
      }
     }
    }
   },
   "outputs": [],
   "source": [
    "control_array.current_to_irr_upload"
   ]
  },
  {
   "cell_type": "code",
   "execution_count": 11,
   "id": "6ac5d355-16e6-45c8-8b32-ec83983d01df",
   "metadata": {
    "extensions": {
     "jupyter_dashboards": {
      "activeView": "grid_default",
      "views": {
       "grid_default": {
        "col": null,
        "height": 2,
        "hidden": true,
        "row": null,
        "width": 2
       }
      }
     }
    },
    "tags": []
   },
   "outputs": [],
   "source": [
    "# TEST READING COEFFICIENT FILES AND APPLYING REGRESSION\n",
    "\n",
    "# open file and read irradiance to current regression coefficients\n",
    "data_str = control_array.irr_to_current_upload.data[0].decode(\"utf-8\").split('\\n')[0:-1]\n",
    "\n",
    "#\n",
    "#\n",
    "#\n",
    "irr_test = 15\n",
    "led_max_current = 100\n",
    "channel_max_current = 100\n",
    "switch_max_current = 130\n",
    "device_max_current = 400\n",
    "#\n",
    "#\n",
    "#\n",
    "\n",
    "# get regression coefficients as 2D numpy array\n",
    "polynomial_order = len(data_str[0].split(',')) - 1\n",
    "coeffs_matrix = np.reshape(np.asarray([d.split(',') for d in data_str]).astype(float), (10,10,polynomial_order+1))\n",
    "\n",
    "if irr_test == 0 or np.array_equal(control_array.indicate_leds.matrix_output, np.zeros(shape=(N_SWITCHES, N_CHANNELS))):\n",
    "    required_currents = np.zeros(shape=(N_SWITCHES, N_CHANNELS), dtype=float)\n",
    "    channel_currents = np.zeros(shape=(1,N_CHANNELS), dtype=float)\n",
    "    actual_led_irradiances = np.zeros(shape=(N_SWITCHES, N_CHANNELS), dtype=float)\n",
    "    \n",
    "else:\n",
    "    # get matrix of required currents\n",
    "    irr_matrix = np.array([[irr_test] * N_CHANNELS for _ in range(N_SWITCHES)])\n",
    "    required_currents = np.asarray([[np.poly1d(coeffs)(irr_test) for coeffs in coeffs_matrix[r]] for r in range(N_SWITCHES)]) * control_array.indicate_leds.matrix_output\n",
    "\n",
    "    # check if individual LED maximum current is being exceeded and set to maximum if so\n",
    "    required_currents[required_currents > led_max_current] = led_max_current\n",
    "\n",
    "    # get required channel currents from matrix of required currents unless required currents all zero\n",
    "    channel_currents = np.zeros(shape=(1,N_CHANNELS), dtype=float)\n",
    "    if not np.array_equal(required_currents, np.zeros(shape=(N_SWITCHES, N_CHANNELS))):\n",
    "        n_switches_closed = control_array.switch_states[0].sum()\n",
    "        channel_currents[0][control_array.channel_states[0]] = np.amin(required_currents[control_array.switch_states[0],:][:,control_array.channel_states[0]], axis=0) * n_switches_closed\n",
    "\n",
    "    # check if channel current exceeded for any channel\n",
    "    channel_currents[0][channel_currents[0] > channel_max_current] = channel_max_current\n",
    "    \n",
    "    # check if any switch current exceeded\n",
    "    #\n",
    "    # ADD WARNING MESSAGES HERE!\n",
    "    #\n",
    "    requested_switch_current = np.sum(channel_currents[0]) / n_switches_closed\n",
    "    if requested_switch_current > switch_max_current:\n",
    "        channel_currents[0] = channel_currents[0] / requested_switch_current * switch_max_current\n",
    "        \n",
    "    # check if maximum device current exceeded\n",
    "    requested_device_current = np.sum(channel_currents[0])\n",
    "    if requested_device_current > device_max_current:\n",
    "        channel_currents[0] = channel_currents[0] / requested_device_current * device_max_current\n",
    "        \n",
    "    # implement regression to display ACTUAL irradiances based on the supplied current\n",
    "    data_str = control_array.current_to_irr_upload.data[0].decode(\"utf-8\").split('\\n')[0:-1]\n",
    "    \n",
    "    polynomial_order = len(data_str[0].split(',')) - 1\n",
    "    coeffs_matrix = np.reshape(np.asarray([d.split(',') for d in data_str]).astype(float), (10,10,polynomial_order+1))\n",
    "    actual_led_irradiances = np.asarray([[np.poly1d(coeffs_matrix[r][c])(channel_currents[0][c]/n_switches_closed) for c in range(N_CHANNELS)] for r in range(N_SWITCHES)]) * control_array.indicate_leds.matrix_output"
   ]
  },
  {
   "cell_type": "code",
   "execution_count": 13,
   "id": "268eb1ee-af6e-4c11-bf02-dc7408a7282f",
   "metadata": {
    "extensions": {
     "jupyter_dashboards": {
      "activeView": "grid_default",
      "views": {
       "grid_default": {
        "col": null,
        "height": 2,
        "hidden": true,
        "row": null,
        "width": 2
       }
      }
     }
    }
   },
   "outputs": [],
   "source": [
    "channel_currents"
   ]
  },
  {
   "cell_type": "code",
   "execution_count": 12,
   "id": "add228d8-c1da-4663-a26f-9cd3c016a97c",
   "metadata": {
    "extensions": {
     "jupyter_dashboards": {
      "activeView": "grid_default",
      "views": {
       "grid_default": {
        "col": null,
        "height": 2,
        "hidden": true,
        "row": null,
        "width": 2
       }
      }
     }
    }
   },
   "outputs": [],
   "source": [
    "actual_led_irradiances"
   ]
  },
  {
   "cell_type": "code",
   "execution_count": null,
   "id": "b33fb086-27df-4c05-8f6e-87a8e7bf8957",
   "metadata": {
    "extensions": {
     "jupyter_dashboards": {
      "activeView": "grid_default",
      "views": {
       "grid_default": {
        "col": null,
        "height": 2,
        "hidden": true,
        "row": null,
        "width": 2
       }
      }
     }
    }
   },
   "outputs": [],
   "source": []
  }
 ],
 "metadata": {
  "extensions": {
   "jupyter_dashboards": {
    "activeView": "grid_default",
    "version": 1,
    "views": {
     "grid_default": {
      "cellMargin": 2,
      "defaultCellHeight": 60,
      "maxColumns": 12,
      "name": "grid",
      "type": "grid"
     }
    }
   }
  },
  "kernelspec": {
   "display_name": "Python 3 (ipykernel)",
   "language": "python",
   "name": "python3"
  },
  "language_info": {
   "codemirror_mode": {
    "name": "ipython",
    "version": 3
   },
   "file_extension": ".py",
   "mimetype": "text/x-python",
   "name": "python",
   "nbconvert_exporter": "python",
   "pygments_lexer": "ipython3",
   "version": "3.9.7"
  }
 },
 "nbformat": 4,
 "nbformat_minor": 5
}
