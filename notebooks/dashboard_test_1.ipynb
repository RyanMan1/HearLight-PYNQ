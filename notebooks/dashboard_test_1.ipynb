{
 "cells": [
  {
   "cell_type": "markdown",
   "id": "7bbc6cbf-cb78-453b-b9f4-9effa36553be",
   "metadata": {},
   "source": [
    "# TO DO\n",
    "---\n",
    "---\n",
    "- make dashboard more generalised - dashboard function accept tuple of panels user wishes to use (incl audio control panel)\n",
    "- integrate audio control panel into HearLight library\n",
    "\n",
    "- work on theme - dark theme with hearlight colours\n",
    "---\n"
   ]
  },
  {
   "cell_type": "code",
   "execution_count": 1,
   "id": "40f15107-80a3-4fd2-98b0-39addd5d8b11",
   "metadata": {
    "extensions": {
     "jupyter_dashboards": {
      "activeView": "grid_default",
      "views": {
       "grid_default": {
        "col": null,
        "height": 2,
        "hidden": true,
        "row": null,
        "width": 2
       }
      }
     }
    },
    "tags": []
   },
   "outputs": [
    {
     "data": {
      "application/javascript": [
       "\n",
       "try {\n",
       "require(['notebook/js/codecell'], function(codecell) {\n",
       "  codecell.CodeCell.options_default.highlight_modes[\n",
       "      'magic_text/x-csrc'] = {'reg':[/^%%microblaze/]};\n",
       "  Jupyter.notebook.events.one('kernel_ready.Kernel', function(){\n",
       "      Jupyter.notebook.get_cells().map(function(cell){\n",
       "          if (cell.cell_type == 'code'){ cell.auto_highlight(); } }) ;\n",
       "  });\n",
       "});\n",
       "} catch (e) {};\n"
      ]
     },
     "metadata": {},
     "output_type": "display_data"
    },
    {
     "data": {
      "application/javascript": [
       "\n",
       "try {\n",
       "require(['notebook/js/codecell'], function(codecell) {\n",
       "  codecell.CodeCell.options_default.highlight_modes[\n",
       "      'magic_text/x-csrc'] = {'reg':[/^%%pybind11/]};\n",
       "  Jupyter.notebook.events.one('kernel_ready.Kernel', function(){\n",
       "      Jupyter.notebook.get_cells().map(function(cell){\n",
       "          if (cell.cell_type == 'code'){ cell.auto_highlight(); } }) ;\n",
       "  });\n",
       "});\n",
       "} catch (e) {};\n"
      ]
     },
     "metadata": {},
     "output_type": "display_data"
    }
   ],
   "source": [
    "from hearlight import Dashboard"
   ]
  },
  {
   "cell_type": "code",
   "execution_count": 2,
   "id": "c170484b-ae24-4abe-81d5-bf84086c0e82",
   "metadata": {
    "extensions": {
     "jupyter_dashboards": {
      "activeView": "grid_default",
      "views": {
       "grid_default": {
        "col": null,
        "height": 2,
        "hidden": true,
        "row": null,
        "width": 2
       }
      }
     }
    }
   },
   "outputs": [],
   "source": [
    "# make this accept a tuple of panels user wishes to use...\n",
    "dashboard = Dashboard()"
   ]
  },
  {
   "cell_type": "code",
   "execution_count": 3,
   "id": "74e9a2ad-e4aa-4eac-b4c0-72432e6ef477",
   "metadata": {
    "extensions": {
     "jupyter_dashboards": {
      "activeView": "grid_default",
      "views": {
       "grid_default": {
        "col": 1,
        "height": 6,
        "hidden": false,
        "row": 0,
        "width": 7
       }
      }
     }
    },
    "tags": []
   },
   "outputs": [
    {
     "data": {
      "application/vnd.jupyter.widget-view+json": {
       "model_id": "c3a43dc92e5f4f30808bd836d9792932",
       "version_major": 2,
       "version_minor": 0
      },
      "text/plain": [
       "Box(children=(HTML(value='\\n<style>\\n    .logo_panel_css{\\n        height : 330px;\\n        width : 100%;\\n   …"
      ]
     },
     "metadata": {},
     "output_type": "display_data"
    }
   ],
   "source": [
    "dashboard.main_control_panel"
   ]
  },
  {
   "cell_type": "code",
   "execution_count": 4,
   "id": "519bbb8b-5f6f-4e0a-b3a2-b4823a5f2293",
   "metadata": {
    "extensions": {
     "jupyter_dashboards": {
      "activeView": "grid_default",
      "views": {
       "grid_default": {
        "col": 0,
        "height": 8,
        "hidden": false,
        "row": 6,
        "width": 8
       }
      }
     }
    },
    "tags": []
   },
   "outputs": [
    {
     "data": {
      "application/vnd.jupyter.widget-view+json": {
       "model_id": "779490e5e6df4c0298029edeb90c41fd",
       "version_major": 2,
       "version_minor": 0
      },
      "text/plain": [
       "Box(children=(HTML(value='\\n<style>\\n    .logo_panel_css{\\n        height : 330px;\\n        width : 100%;\\n   …"
      ]
     },
     "metadata": {},
     "output_type": "display_data"
    }
   ],
   "source": [
    "dashboard.led_control_panel"
   ]
  },
  {
   "cell_type": "code",
   "execution_count": 5,
   "id": "4f481e63-e845-4e72-b37f-faca04c70a9c",
   "metadata": {
    "extensions": {
     "jupyter_dashboards": {
      "activeView": "grid_default",
      "views": {
       "grid_default": {
        "col": 8,
        "height": 6,
        "hidden": false,
        "row": 0,
        "width": 4
       }
      }
     }
    },
    "tags": []
   },
   "outputs": [
    {
     "data": {
      "application/vnd.jupyter.widget-view+json": {
       "model_id": "eebf1165bbaa45ea9dc28c4cc284f084",
       "version_major": 2,
       "version_minor": 0
      },
      "text/plain": [
       "VBox(children=(HTML(value='<b>&nbsp;LED currents (mA) required</b>', _dom_classes=('section_heading',)), HBox(…"
      ]
     },
     "metadata": {},
     "output_type": "display_data"
    }
   ],
   "source": [
    "dashboard.required_currents_panel"
   ]
  },
  {
   "cell_type": "code",
   "execution_count": 6,
   "id": "af41fcbd-7a3a-4fa1-8629-98894786cf9a",
   "metadata": {
    "extensions": {
     "jupyter_dashboards": {
      "activeView": "grid_default",
      "views": {
       "grid_default": {
        "col": 8,
        "height": 2,
        "hidden": false,
        "row": 6,
        "width": 4
       }
      }
     }
    },
    "tags": []
   },
   "outputs": [
    {
     "data": {
      "application/vnd.jupyter.widget-view+json": {
       "model_id": "cbaab7f6f9a348f0aab21ffe82769a37",
       "version_major": 2,
       "version_minor": 0
      },
      "text/plain": [
       "VBox(children=(HTML(value='<b>&nbsp;Actual channel currents (mA)</b>', _dom_classes=('section_heading',)), HBo…"
      ]
     },
     "metadata": {},
     "output_type": "display_data"
    }
   ],
   "source": [
    "dashboard.channel_currents_panel"
   ]
  },
  {
   "cell_type": "code",
   "execution_count": 7,
   "id": "e29b7367-c396-4051-88e5-a64dcf9dd666",
   "metadata": {
    "extensions": {
     "jupyter_dashboards": {
      "activeView": "grid_default",
      "views": {
       "grid_default": {
        "col": 8,
        "height": 6,
        "hidden": false,
        "row": 8,
        "width": 4
       }
      }
     }
    },
    "tags": []
   },
   "outputs": [
    {
     "data": {
      "application/vnd.jupyter.widget-view+json": {
       "model_id": "2d20dd8c51904bcf8169ff75a787cc14",
       "version_major": 2,
       "version_minor": 0
      },
      "text/plain": [
       "VBox(children=(HTML(value='<b>&nbsp;Actual LED irradiances (mW/mm^2)</b>', _dom_classes=('section_heading',)),…"
      ]
     },
     "metadata": {},
     "output_type": "display_data"
    }
   ],
   "source": [
    "dashboard.actual_irradiances_panel"
   ]
  },
  {
   "cell_type": "code",
   "execution_count": 10,
   "id": "b2628ed2-3824-4d4b-87fb-2d49c8754665",
   "metadata": {
    "collapsed": true,
    "jupyter": {
     "outputs_hidden": true
    },
    "tags": []
   },
   "outputs": [
    {
     "data": {
      "text/plain": [
       "array([[ 0.        ,  0.        ,  0.        ,  0.        ,  0.        ,\n",
       "         0.        ,  0.        ,  0.        ,  0.        ,  0.        ],\n",
       "       [ 0.        ,  0.        ,  0.        ,  0.        ,  0.        ,\n",
       "        14.97478833,  0.        ,  0.        ,  0.        ,  0.        ],\n",
       "       [ 0.        ,  0.        ,  0.        ,  0.        , 18.4762459 ,\n",
       "        15.66455724,  0.        ,  0.        ,  0.        ,  0.        ],\n",
       "       [ 0.        ,  0.        ,  0.        ,  0.        ,  0.        ,\n",
       "         0.        ,  0.        ,  0.        ,  0.        ,  0.        ],\n",
       "       [ 0.        ,  0.        ,  0.        ,  0.        ,  0.        ,\n",
       "         0.        ,  0.        ,  0.        ,  0.        ,  0.        ],\n",
       "       [ 0.        ,  0.        ,  0.        ,  0.        ,  0.        ,\n",
       "         0.        ,  0.        ,  0.        ,  0.        ,  0.        ],\n",
       "       [ 0.        ,  0.        ,  0.        ,  0.        ,  0.        ,\n",
       "         0.        ,  0.        ,  0.        ,  0.        ,  0.        ],\n",
       "       [ 0.        ,  0.        ,  0.        ,  0.        , 13.73973485,\n",
       "        14.9538428 ,  0.        ,  0.        ,  0.        ,  0.        ],\n",
       "       [ 0.        ,  0.        ,  0.        ,  0.        ,  0.        ,\n",
       "         0.        ,  0.        ,  0.        ,  0.        ,  0.        ],\n",
       "       [ 0.        ,  0.        ,  0.        ,  0.        ,  0.        ,\n",
       "         0.        ,  0.        ,  0.        ,  0.        ,  0.        ]])"
      ]
     },
     "execution_count": 10,
     "metadata": {},
     "output_type": "execute_result"
    }
   ],
   "source": [
    "#dashboard.required_currents"
   ]
  },
  {
   "cell_type": "code",
   "execution_count": 5,
   "id": "b87bcdea-b7c3-4c42-81d6-8dbea3b1e9e3",
   "metadata": {},
   "outputs": [
    {
     "data": {
      "text/plain": [
       "array([[False, False, False, False, False, False, False, False, False,\n",
       "         True]])"
      ]
     },
     "execution_count": 5,
     "metadata": {},
     "output_type": "execute_result"
    }
   ],
   "source": [
    "dashboard.switch_states"
   ]
  },
  {
   "cell_type": "code",
   "execution_count": 15,
   "id": "b25e48b5-6b33-4ea0-b967-4eb327b7fb60",
   "metadata": {},
   "outputs": [
    {
     "data": {
      "text/plain": [
       "array([[False, False, False, False,  True, False, False, False, False,\n",
       "        False]])"
      ]
     },
     "execution_count": 15,
     "metadata": {},
     "output_type": "execute_result"
    }
   ],
   "source": [
    "#dashboard.channel_states"
   ]
  },
  {
   "cell_type": "code",
   "execution_count": 6,
   "id": "fb2505fd-000f-4779-8390-6a0d36175954",
   "metadata": {},
   "outputs": [
    {
     "data": {
      "text/plain": [
       "array([[ 0.,  0.,  0.,  0.,  0.,  0.,  0.,  0.,  0., 10.]])"
      ]
     },
     "execution_count": 6,
     "metadata": {},
     "output_type": "execute_result"
    }
   ],
   "source": [
    "dashboard.channel_currents"
   ]
  },
  {
   "cell_type": "code",
   "execution_count": 21,
   "id": "e9ded3df-238c-47f9-a5d4-30f06357ae80",
   "metadata": {},
   "outputs": [
    {
     "data": {
      "text/plain": [
       "400.0"
      ]
     },
     "execution_count": 21,
     "metadata": {},
     "output_type": "execute_result"
    }
   ],
   "source": [
    "import numpy as np\n",
    "np.sum(dashboard.channel_currents)\n"
   ]
  },
  {
   "cell_type": "code",
   "execution_count": 9,
   "id": "a1ca4087-9ea1-4e28-8011-db47caed6ace",
   "metadata": {},
   "outputs": [
    {
     "data": {
      "text/plain": [
       "array([[9994,    0,    0,    0,    0,    0,    0,    0,    0,    0]])"
      ]
     },
     "execution_count": 9,
     "metadata": {},
     "output_type": "execute_result"
    }
   ],
   "source": [
    "dashboard.channel_counts"
   ]
  },
  {
   "cell_type": "code",
   "execution_count": null,
   "id": "1ac17cc4-f759-4963-a537-8396a4dba751",
   "metadata": {},
   "outputs": [],
   "source": []
  },
  {
   "cell_type": "code",
   "execution_count": 10,
   "id": "82637209-8032-43b0-b60f-a96eb4563366",
   "metadata": {
    "extensions": {
     "jupyter_dashboards": {
      "activeView": "grid_default",
      "views": {
       "grid_default": {
        "col": 0,
        "height": 6,
        "hidden": false,
        "row": 0,
        "width": 1
       }
      }
     }
    },
    "tags": []
   },
   "outputs": [
    {
     "data": {
      "application/vnd.jupyter.widget-view+json": {
       "model_id": "b43d6b91215e4ed18c4a1d204e613355",
       "version_major": 2,
       "version_minor": 0
      },
      "text/plain": [
       "VBox(children=(Box(children=(Image(value=b'\\x89PNG\\r\\n\\x1a\\n\\x00\\x00\\x00\\rIHDR\\x00\\x00\\x02\\xf9\\x00\\x00\\x02\\x8a…"
      ]
     },
     "metadata": {},
     "output_type": "display_data"
    }
   ],
   "source": [
    "dashboard.logo_panel"
   ]
  },
  {
   "cell_type": "code",
   "execution_count": 5,
   "id": "d25f8dd9-16f7-4311-be1b-0800c31f4c33",
   "metadata": {
    "extensions": {
     "jupyter_dashboards": {
      "activeView": "grid_default",
      "views": {
       "grid_default": {
        "col": null,
        "height": 2,
        "hidden": true,
        "row": null,
        "width": 2
       }
      }
     }
    },
    "tags": []
   },
   "outputs": [],
   "source": [
    "# import asyncio\n",
    "\n",
    "# # start background task to allow user to work while grid is loading\n",
    "# select_led_grid_gen_task = asyncio.ensure_future(dashboard.select_leds.get_led_grid())\n",
    "# indicate_led_grid_gen_task = asyncio.ensure_future(dashboard.indicate_leds.get_led_grid())"
   ]
  },
  {
   "cell_type": "code",
   "execution_count": null,
   "id": "0bdc91c1-e309-4d8c-b3f7-763ca02b7f55",
   "metadata": {
    "extensions": {
     "jupyter_dashboards": {
      "activeView": "grid_default",
      "views": {
       "grid_default": {
        "col": null,
        "height": 2,
        "hidden": true,
        "row": null,
        "width": 2
       }
      }
     }
    }
   },
   "outputs": [],
   "source": []
  },
  {
   "cell_type": "code",
   "execution_count": 5,
   "id": "778ea64d-8d9d-409f-a921-2d72720d16e7",
   "metadata": {
    "extensions": {
     "jupyter_dashboards": {
      "activeView": "grid_default",
      "views": {
       "grid_default": {
        "col": null,
        "height": 2,
        "hidden": true,
        "row": null,
        "width": 2
       }
      }
     }
    }
   },
   "outputs": [],
   "source": [
    "# control_array.irr_to_current_upload"
   ]
  },
  {
   "cell_type": "code",
   "execution_count": null,
   "id": "dd5f61b1-7236-4f3d-88aa-75b273ef62d0",
   "metadata": {
    "extensions": {
     "jupyter_dashboards": {
      "activeView": "grid_default",
      "views": {
       "grid_default": {
        "col": null,
        "height": 2,
        "hidden": true,
        "row": null,
        "width": 2
       }
      }
     }
    }
   },
   "outputs": [],
   "source": [
    "# control_array.current_to_irr_upload"
   ]
  },
  {
   "cell_type": "code",
   "execution_count": null,
   "id": "6ac5d355-16e6-45c8-8b32-ec83983d01df",
   "metadata": {
    "extensions": {
     "jupyter_dashboards": {
      "activeView": "grid_default",
      "views": {
       "grid_default": {
        "col": null,
        "height": 2,
        "hidden": true,
        "row": null,
        "width": 2
       }
      }
     }
    },
    "tags": []
   },
   "outputs": [],
   "source": [
    "# # KEEP THIS FOR LATER # #\n",
    "# # TEST READING COEFFICIENT FILES AND APPLYING REGRESSION\n",
    "\n",
    "# # open file and read irradiance to current regression coefficients\n",
    "# data_str = control_array.irr_to_current_upload.data[0].decode(\"utf-8\").split('\\n')[0:-1]\n",
    "\n",
    "# #\n",
    "# #\n",
    "# #\n",
    "# irr_test = 15\n",
    "# led_max_current = 100\n",
    "# channel_max_current = 100\n",
    "# switch_max_current = 130\n",
    "# device_max_current = 400\n",
    "# #\n",
    "# #\n",
    "# #\n",
    "\n",
    "# # get regression coefficients as 2D numpy array\n",
    "# polynomial_order = len(data_str[0].split(',')) - 1\n",
    "# coeffs_matrix = np.reshape(np.asarray([d.split(',') for d in data_str]).astype(float), (10,10,polynomial_order+1))\n",
    "\n",
    "# if irr_test == 0 or np.array_equal(control_array.indicate_leds.matrix_output, np.zeros(shape=(N_SWITCHES, N_CHANNELS))):\n",
    "#     required_currents = np.zeros(shape=(N_SWITCHES, N_CHANNELS), dtype=float)\n",
    "#     channel_currents = np.zeros(shape=(1,N_CHANNELS), dtype=float)\n",
    "#     actual_led_irradiances = np.zeros(shape=(N_SWITCHES, N_CHANNELS), dtype=float)\n",
    "    \n",
    "# else:\n",
    "#     # get matrix of required currents\n",
    "#     irr_matrix = np.array([[irr_test] * N_CHANNELS for _ in range(N_SWITCHES)])\n",
    "#     required_currents = np.asarray([[np.poly1d(coeffs)(irr_test) for coeffs in coeffs_matrix[r]] for r in range(N_SWITCHES)]) * control_array.indicate_leds.matrix_output\n",
    "\n",
    "#     # check if individual LED maximum current is being exceeded and set to maximum if so\n",
    "#     required_currents[required_currents > led_max_current] = led_max_current\n",
    "\n",
    "#     # get required channel currents from matrix of required currents unless required currents all zero\n",
    "#     channel_currents = np.zeros(shape=(1,N_CHANNELS), dtype=float)\n",
    "#     if not np.array_equal(required_currents, np.zeros(shape=(N_SWITCHES, N_CHANNELS))):\n",
    "#         n_switches_closed = control_array.switch_states[0].sum()\n",
    "#         channel_currents[0][control_array.channel_states[0]] = np.amin(required_currents[control_array.switch_states[0],:][:,control_array.channel_states[0]], axis=0) * n_switches_closed\n",
    "\n",
    "#     # check if channel current exceeded for any channel\n",
    "#     channel_currents[0][channel_currents[0] > channel_max_current] = channel_max_current\n",
    "    \n",
    "#     # check if any switch current exceeded\n",
    "#     #\n",
    "#     # ADD WARNING MESSAGES HERE!\n",
    "#     #\n",
    "#     requested_switch_current = np.sum(channel_currents[0]) / n_switches_closed\n",
    "#     if requested_switch_current > switch_max_current:\n",
    "#         channel_currents[0] = channel_currents[0] / requested_switch_current * switch_max_current\n",
    "        \n",
    "#     # check if maximum device current exceeded\n",
    "#     requested_device_current = np.sum(channel_currents[0])\n",
    "#     if requested_device_current > device_max_current:\n",
    "#         channel_currents[0] = channel_currents[0] / requested_device_current * device_max_current\n",
    "        \n",
    "#     # implement regression to display ACTUAL irradiances based on the supplied current\n",
    "#     data_str = control_array.current_to_irr_upload.data[0].decode(\"utf-8\").split('\\n')[0:-1]\n",
    "    \n",
    "#     polynomial_order = len(data_str[0].split(',')) - 1\n",
    "#     coeffs_matrix = np.reshape(np.asarray([d.split(',') for d in data_str]).astype(float), (10,10,polynomial_order+1))\n",
    "#     actual_led_irradiances = np.asarray([[np.poly1d(coeffs_matrix[r][c])(channel_currents[0][c]/n_switches_closed) for c in range(N_CHANNELS)] for r in range(N_SWITCHES)]) * control_array.indicate_leds.matrix_output"
   ]
  },
  {
   "cell_type": "code",
   "execution_count": null,
   "id": "268eb1ee-af6e-4c11-bf02-dc7408a7282f",
   "metadata": {
    "extensions": {
     "jupyter_dashboards": {
      "activeView": "grid_default",
      "views": {
       "grid_default": {
        "col": null,
        "height": 2,
        "hidden": true,
        "row": null,
        "width": 2
       }
      }
     }
    }
   },
   "outputs": [],
   "source": [
    "#channel_currents"
   ]
  },
  {
   "cell_type": "code",
   "execution_count": null,
   "id": "add228d8-c1da-4663-a26f-9cd3c016a97c",
   "metadata": {
    "extensions": {
     "jupyter_dashboards": {
      "activeView": "grid_default",
      "views": {
       "grid_default": {
        "col": null,
        "height": 2,
        "hidden": true,
        "row": null,
        "width": 2
       }
      }
     }
    }
   },
   "outputs": [],
   "source": [
    "#actual_led_irradiances"
   ]
  },
  {
   "cell_type": "code",
   "execution_count": null,
   "id": "b33fb086-27df-4c05-8f6e-87a8e7bf8957",
   "metadata": {
    "extensions": {
     "jupyter_dashboards": {
      "activeView": "grid_default",
      "views": {
       "grid_default": {
        "col": null,
        "height": 2,
        "hidden": true,
        "row": null,
        "width": 2
       }
      }
     }
    }
   },
   "outputs": [],
   "source": []
  }
 ],
 "metadata": {
  "extensions": {
   "jupyter_dashboards": {
    "activeView": "grid_default",
    "version": 1,
    "views": {
     "grid_default": {
      "cellMargin": 2,
      "defaultCellHeight": 60,
      "maxColumns": 12,
      "name": "grid",
      "type": "grid"
     }
    }
   }
  },
  "kernelspec": {
   "display_name": "Python 3",
   "language": "python",
   "name": "python3"
  },
  "language_info": {
   "codemirror_mode": {
    "name": "ipython",
    "version": 3
   },
   "file_extension": ".py",
   "mimetype": "text/x-python",
   "name": "python",
   "nbconvert_exporter": "python",
   "pygments_lexer": "ipython3",
   "version": "3.8.2"
  }
 },
 "nbformat": 4,
 "nbformat_minor": 5
}
