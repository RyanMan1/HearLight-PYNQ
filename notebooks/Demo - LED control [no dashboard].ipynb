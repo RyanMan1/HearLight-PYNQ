{
 "cells": [
  {
   "cell_type": "markdown",
   "id": "fcd7a4e2-50ef-4b44-859f-40bdefa486cb",
   "metadata": {},
   "source": [
    "# Demo: LED control without dashboard\n",
    "---\n",
    "**This demo shows two methods for controlling the LEDs which both make use of the Arduino microblaze subsystem in the PYNQ-Z2 base overlay.**\n",
    "\n",
    "1) Current sources (channels) and switches individually controlled through Python function calls. This method is ideal for testing individual LEDs or demonstrating the system and is used in ***Demo: Basic LED control***. *Note: I could improve performance of this driver by offloading more processing into the microblaze similar to the second driver but it would still be limited by the matrix addressing.*\n",
    "\n",
    "2) Pulse-width modulation driver which can configure LEDs to *any* pattern and brightness. This is ideal for fast real-time control of the LEDs with an audio input, as it is not limited by matrix addressing and is used in ***Demo: Audio LED control***."
   ]
  },
  {
   "cell_type": "markdown",
   "id": "80616728-fd00-4132-bbf4-fbab8f2453b4",
   "metadata": {},
   "source": [
    "# 1) Basic driver"
   ]
  },
  {
   "cell_type": "code",
   "execution_count": null,
   "id": "07251848-d335-4513-9243-6d2d9cf82e72",
   "metadata": {},
   "outputs": [],
   "source": [
    "from pynq import Overlay\n",
    "base = Overlay(\"base.bit\")"
   ]
  },
  {
   "cell_type": "code",
   "execution_count": null,
   "id": "f3d0085b-a449-4ec4-897e-ca0833eb0d4a",
   "metadata": {},
   "outputs": [],
   "source": [
    "from hearlight.driver import ControlLEDs\n",
    "system = ControlLEDs(base)"
   ]
  },
  {
   "cell_type": "code",
   "execution_count": null,
   "id": "2e149aec-a2cc-46d3-8abd-361a2d7558f2",
   "metadata": {},
   "outputs": [],
   "source": [
    "# ALL SWITCHES OPEN\n",
    "for i in range(10):\n",
    "    system.switch_control(i, 0)"
   ]
  },
  {
   "cell_type": "code",
   "execution_count": null,
   "id": "6ee766bf-3347-4019-b974-ced6a21cd07b",
   "metadata": {},
   "outputs": [],
   "source": [
    "# SWITCH OFF ALL DAC CHANNELS\n",
    "for i in range(10):\n",
    "    system.dac_channel_control(i, 0, 0)"
   ]
  },
  {
   "cell_type": "code",
   "execution_count": null,
   "id": "836350bc-8280-4efe-ba72-ea7af5ab4ea5",
   "metadata": {},
   "outputs": [],
   "source": [
    "# SET SOFTSPAN RANGE FOR ALL DACS\n",
    "for i in range(10):\n",
    "    system.dac_config(i, 1)"
   ]
  },
  {
   "cell_type": "code",
   "execution_count": null,
   "id": "13781801-95af-4fef-bdc1-0ffe7f609f07",
   "metadata": {},
   "outputs": [],
   "source": [
    "# '1' corresponds to 6.25 mA\n",
    "system.dac_config?"
   ]
  },
  {
   "cell_type": "code",
   "execution_count": null,
   "id": "6345bfa3-9209-4afa-8006-4c91960ebc2e",
   "metadata": {},
   "outputs": [],
   "source": [
    "from time import sleep\n",
    "\n",
    "# close switches 1 and 3\n",
    "system.switch_control(1, 1)\n",
    "system.switch_control(3, 1)\n",
    "\n",
    "# switch on DAC channels 2 and 9 at 32768 ADC counts\n",
    "# since it is 16-bit DAC and the reference is 6.25 mA, the channel current for each channel is around 3.125 mA\n",
    "system.dac_channel_control(2, 1, 32768)\n",
    "system.dac_channel_control(9, 1, 32768)\n",
    "\n",
    "sleep(5)\n",
    "\n",
    "# SWITCH OFF ALL DAC CHANNELS\n",
    "for i in range(10):\n",
    "    system.dac_channel_control(i, 0, 0)\n",
    "# ALL SWITCHES OPEN\n",
    "for i in range(10):\n",
    "    system.switch_control(i, 0)"
   ]
  },
  {
   "cell_type": "markdown",
   "id": "ce4d4ed1-cc89-4727-aa3b-cceaf52bbc5f",
   "metadata": {},
   "source": [
    "# 2) PWM driver"
   ]
  },
  {
   "cell_type": "code",
   "execution_count": null,
   "id": "d94ec8fc-10f9-4c1f-92f7-cbfd21645afc",
   "metadata": {},
   "outputs": [],
   "source": [
    "from pynq import Overlay\n",
    "base = Overlay(\"base.bit\")"
   ]
  },
  {
   "cell_type": "code",
   "execution_count": null,
   "id": "187fdde7-db0f-4f90-9341-93ba0eee336c",
   "metadata": {},
   "outputs": [],
   "source": [
    "from hearlight.audio import audio_led_driver_setup\n",
    "\n",
    "from pynq import allocate\n",
    "import numpy as np"
   ]
  },
  {
   "cell_type": "code",
   "execution_count": null,
   "id": "1c868ef9-0914-432f-b005-c50dff021c7c",
   "metadata": {},
   "outputs": [],
   "source": [
    "dac_refs = {0 : 3.125,\n",
    "    1 : 6.25,\n",
    "    2 : 12.5,\n",
    "    3 : 25,\n",
    "    4 : 50,\n",
    "    5 : 100,\n",
    "    6 : 200,\n",
    "    7 : 300}\n",
    "dac_ref = 1\n",
    "switch_max_current = 130\n",
    "device_max_current = 2500\n",
    "\n",
    "led_driver_program = audio_led_driver_setup(base)\n",
    "led_driver_program.leds_configure(dac_ref, switch_max_current, device_max_current) # 6.25 mA limit\n",
    "\n",
    "# updating this array will set the LEDs to the corresponding current counts value\n",
    "led_counts = allocate(shape=(10,10), dtype=np.uint16)\n",
    "led_counts.fill(0)\n",
    "led_driver_program.leds_start(led_counts)"
   ]
  },
  {
   "cell_type": "code",
   "execution_count": null,
   "id": "d51f5863-e349-46ab-8247-54f67a6835e2",
   "metadata": {},
   "outputs": [],
   "source": [
    "led_counts[:] = np.random.randint(low=0, high=65536, size=(10,10))\n",
    "print(led_counts)"
   ]
  },
  {
   "cell_type": "code",
   "execution_count": null,
   "id": "d1b63ceb-e749-4d8f-9e05-041c1d787f2b",
   "metadata": {},
   "outputs": [],
   "source": [
    "# mess about with LED patterns...\n",
    "import cv2\n",
    "\n",
    "# Create a black image\n",
    "img = np.zeros((10,10,1), np.uint16)\n",
    "\n",
    "from time import sleep\n",
    "\n",
    "while(1):\n",
    "    for i in range(5):\n",
    "        led_counts[:,:] = cv2.circle(img,(5,5), i+1, 65535, 1)[:,:,0]\n",
    "        sleep(0.1)\n",
    "        img[:,:,:] = 0\n",
    "    for i in range(4,-1,-1):\n",
    "        led_counts[:,:] = cv2.circle(img,(5,5), i+1, 65535, 1)[:,:,0]\n",
    "        sleep(0.1)\n",
    "        img[:,:,:] = 0"
   ]
  },
  {
   "cell_type": "code",
   "execution_count": null,
   "id": "0f6bad75-3f6a-47c0-800c-f142b5d3e721",
   "metadata": {},
   "outputs": [],
   "source": [
    "# reprogramme microblaze to stop driver running\n",
    "audio_led_driver_setup(base)"
   ]
  },
  {
   "cell_type": "code",
   "execution_count": null,
   "id": "3f071ab3-c5a1-4f22-a3ff-89f0bda078e0",
   "metadata": {},
   "outputs": [],
   "source": []
  }
 ],
 "metadata": {
  "kernelspec": {
   "display_name": "Python 3",
   "language": "python",
   "name": "python3"
  },
  "language_info": {
   "codemirror_mode": {
    "name": "ipython",
    "version": 3
   },
   "file_extension": ".py",
   "mimetype": "text/x-python",
   "name": "python",
   "nbconvert_exporter": "python",
   "pygments_lexer": "ipython3",
   "version": "3.8.2"
  }
 },
 "nbformat": 4,
 "nbformat_minor": 5
}
