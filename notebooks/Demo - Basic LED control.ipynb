{
 "cells": [
  {
   "cell_type": "code",
   "execution_count": 1,
   "id": "44746c79-0aa1-4eb5-adb1-1cd58ef2f2d8",
   "metadata": {
    "extensions": {
     "jupyter_dashboards": {
      "activeView": "grid_default",
      "views": {
       "grid_default": {
        "col": null,
        "height": 2,
        "hidden": true,
        "row": null,
        "width": 2
       }
      }
     }
    }
   },
   "outputs": [
    {
     "data": {
      "application/javascript": [
       "\n",
       "try {\n",
       "require(['notebook/js/codecell'], function(codecell) {\n",
       "  codecell.CodeCell.options_default.highlight_modes[\n",
       "      'magic_text/x-csrc'] = {'reg':[/^%%microblaze/]};\n",
       "  Jupyter.notebook.events.one('kernel_ready.Kernel', function(){\n",
       "      Jupyter.notebook.get_cells().map(function(cell){\n",
       "          if (cell.cell_type == 'code'){ cell.auto_highlight(); } }) ;\n",
       "  });\n",
       "});\n",
       "} catch (e) {};\n"
      ]
     },
     "metadata": {},
     "output_type": "display_data"
    },
    {
     "data": {
      "application/javascript": [
       "\n",
       "try {\n",
       "require(['notebook/js/codecell'], function(codecell) {\n",
       "  codecell.CodeCell.options_default.highlight_modes[\n",
       "      'magic_text/x-csrc'] = {'reg':[/^%%pybind11/]};\n",
       "  Jupyter.notebook.events.one('kernel_ready.Kernel', function(){\n",
       "      Jupyter.notebook.get_cells().map(function(cell){\n",
       "          if (cell.cell_type == 'code'){ cell.auto_highlight(); } }) ;\n",
       "  });\n",
       "});\n",
       "} catch (e) {};\n"
      ]
     },
     "metadata": {},
     "output_type": "display_data"
    }
   ],
   "source": [
    "from hearlight import Dashboard"
   ]
  },
  {
   "cell_type": "code",
   "execution_count": 2,
   "id": "8f5ff56e-8d32-4ae4-89c8-5ead7155bf1a",
   "metadata": {
    "extensions": {
     "jupyter_dashboards": {
      "activeView": "grid_default",
      "views": {
       "grid_default": {
        "col": null,
        "height": 2,
        "hidden": true,
        "row": null,
        "width": 2
       }
      }
     }
    }
   },
   "outputs": [],
   "source": [
    "dashboard = Dashboard(led_control_panel = True, array_currents_panel = True, audio_control_panel = None)"
   ]
  },
  {
   "cell_type": "code",
   "execution_count": 3,
   "id": "825ad657-2ae3-4572-8dc2-e0b50c4f040e",
   "metadata": {},
   "outputs": [
    {
     "data": {
      "application/vnd.jupyter.widget-view+json": {
       "model_id": "a524a1ad869d4e1a944a7ec3e0a1c6fd",
       "version_major": 2,
       "version_minor": 0
      },
      "text/plain": [
       "Box(children=(Image(value=b'\\x89PNG\\r\\n\\x1a\\n\\x00\\x00\\x00\\rIHDR\\x00\\x00\\x0e\\xe2\\x00\\x00\\x01<\\x08\\x06\\x00\\x00\\x…"
      ]
     },
     "metadata": {},
     "output_type": "display_data"
    }
   ],
   "source": [
    "dashboard.banner_panel"
   ]
  },
  {
   "cell_type": "code",
   "execution_count": 4,
   "id": "5a0879c4-cba3-4339-8479-7c57b3833ed4",
   "metadata": {},
   "outputs": [
    {
     "data": {
      "application/vnd.jupyter.widget-view+json": {
       "model_id": "d552c3857c7a4389830dd0b5040e225e",
       "version_major": 2,
       "version_minor": 0
      },
      "text/plain": [
       "GridspecLayout(children=(VBox(children=(HTML(value='<h1 style=\"font-size:1.7em\"><b>HearLight PYNQ control syst…"
      ]
     },
     "metadata": {},
     "output_type": "display_data"
    }
   ],
   "source": [
    "from ipywidgets import GridspecLayout\n",
    "\n",
    "dashboard_box = GridspecLayout(11, 10, height='850px', width='1650px', grid_gap=\"10px\")\n",
    "\n",
    "dashboard_box[0:4,0:1] = dashboard.info_panel\n",
    "\n",
    "dashboard_box[0:4,1:7] = dashboard.main_control_panel\n",
    "\n",
    "dashboard_box[4:11,0:7] = dashboard.led_control_panel\n",
    "\n",
    "dashboard_box[0:5,7:10] = dashboard.required_currents_panel\n",
    "dashboard_box[5:6,7:10] = dashboard.channel_currents_panel\n",
    "dashboard_box[6:11,7:10] = dashboard.actual_irradiances_panel\n",
    "\n",
    "dashboard_box"
   ]
  },
  {
   "cell_type": "markdown",
   "id": "8a9059e3-27fd-4111-a493-f7337495ae56",
   "metadata": {
    "extensions": {
     "jupyter_dashboards": {
      "activeView": "grid_default",
      "views": {
       "grid_default": {
        "col": null,
        "height": 2,
        "hidden": true,
        "row": null,
        "width": 2
       }
      }
     }
    }
   },
   "source": [
    "# DEMO: Basic control of LEDs through dashboard\n",
    "--- \n",
    "*May take a few minutes to load...*\n",
    "\n",
    "#### Instructions\n",
    "- Load LED control grids by pressing both ***Load grid*** buttons\n",
    "- Load base overlay by pressing ***Program FPGA*** button\n",
    "- Locate and load regression coefficient files for device being tested using ***Upload*** buttons\n",
    "- Choose pattern and set parameters in 'Configure pattern'\n",
    "- Press ***START*** button to run basic protocol\n"
   ]
  },
  {
   "cell_type": "code",
   "execution_count": null,
   "id": "79d6b2a5-b923-4624-aae8-ee9b80b35232",
   "metadata": {},
   "outputs": [],
   "source": []
  }
 ],
 "metadata": {
  "extensions": {
   "jupyter_dashboards": {
    "activeView": "grid_default",
    "version": 1,
    "views": {
     "grid_default": {
      "cellMargin": 2,
      "defaultCellHeight": 60,
      "maxColumns": 12,
      "name": "grid",
      "type": "grid"
     }
    }
   }
  },
  "kernelspec": {
   "display_name": "Python 3",
   "language": "python",
   "name": "python3"
  },
  "language_info": {
   "codemirror_mode": {
    "name": "ipython",
    "version": 3
   },
   "file_extension": ".py",
   "mimetype": "text/x-python",
   "name": "python",
   "nbconvert_exporter": "python",
   "pygments_lexer": "ipython3",
   "version": "3.8.2"
  }
 },
 "nbformat": 4,
 "nbformat_minor": 5
}
