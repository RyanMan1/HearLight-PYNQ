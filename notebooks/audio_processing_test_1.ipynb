{
 "cells": [
  {
   "cell_type": "code",
   "execution_count": 1,
   "id": "53baab0f-45e9-4ed5-b19e-163aa85bd011",
   "metadata": {},
   "outputs": [
    {
     "data": {
      "application/javascript": [
       "\n",
       "try {\n",
       "require(['notebook/js/codecell'], function(codecell) {\n",
       "  codecell.CodeCell.options_default.highlight_modes[\n",
       "      'magic_text/x-csrc'] = {'reg':[/^%%microblaze/]};\n",
       "  Jupyter.notebook.events.one('kernel_ready.Kernel', function(){\n",
       "      Jupyter.notebook.get_cells().map(function(cell){\n",
       "          if (cell.cell_type == 'code'){ cell.auto_highlight(); } }) ;\n",
       "  });\n",
       "});\n",
       "} catch (e) {};\n"
      ]
     },
     "metadata": {},
     "output_type": "display_data"
    },
    {
     "data": {
      "application/javascript": [
       "\n",
       "try {\n",
       "require(['notebook/js/codecell'], function(codecell) {\n",
       "  codecell.CodeCell.options_default.highlight_modes[\n",
       "      'magic_text/x-csrc'] = {'reg':[/^%%pybind11/]};\n",
       "  Jupyter.notebook.events.one('kernel_ready.Kernel', function(){\n",
       "      Jupyter.notebook.get_cells().map(function(cell){\n",
       "          if (cell.cell_type == 'code'){ cell.auto_highlight(); } }) ;\n",
       "  });\n",
       "});\n",
       "} catch (e) {};\n"
      ]
     },
     "metadata": {},
     "output_type": "display_data"
    }
   ],
   "source": [
    "from pynq.overlays.base import BaseOverlay\n",
    "base = BaseOverlay(\"base.bit\")"
   ]
  },
  {
   "cell_type": "markdown",
   "id": "6f50d44c-333d-475f-9967-3f4b0cc69b8a",
   "metadata": {},
   "source": [
    "# HearLight libraries"
   ]
  },
  {
   "cell_type": "code",
   "execution_count": 5,
   "id": "ec138603-0146-4b74-bd36-40229f47affa",
   "metadata": {},
   "outputs": [],
   "source": [
    "from pynq.lib import MicroblazeLibrary\n",
    "\n",
    "lib = MicroblazeLibrary(base.ARDUINO, ['spi', 'gpio'])"
   ]
  },
  {
   "cell_type": "code",
   "execution_count": 6,
   "id": "b029979d-e35f-4688-bb6c-93cf1905cdc9",
   "metadata": {},
   "outputs": [],
   "source": [
    "# enable external power supply with en pin connected to A6\n",
    "power_supply_en = lib.gpio_open(19)\n",
    "\n",
    "power_supply_en.set_direction(lib.GPIO_OUT)\n",
    "power_supply_en.write(1)\n",
    "\n",
    "# RPC handle to control DACs through SPI\n",
    "dac = lib.spi_open(13, 12, 11, 17)\n",
    "\n",
    "# chip select for DAC A and DAC B - initialise to 'high' (slave disabled)\n",
    "cs_a = lib.gpio_open(10)\n",
    "cs_b = lib.gpio_open(2)\n",
    "\n",
    "cs_a.set_direction(lib.GPIO_OUT)\n",
    "cs_a.write(1)\n",
    "\n",
    "cs_b.set_direction(lib.GPIO_OUT)\n",
    "cs_b.write(1)\n",
    "\n",
    "# RPC handle for switches control through GPIO - initialise to 'high' (switch open)\n",
    "switches = [lib.gpio_open(3),\n",
    "            lib.gpio_open(4),\n",
    "            lib.gpio_open(5),\n",
    "            lib.gpio_open(6),\n",
    "            lib.gpio_open(7),\n",
    "            lib.gpio_open(8),\n",
    "            lib.gpio_open(9),\n",
    "            lib.gpio_open(14),\n",
    "            lib.gpio_open(15),\n",
    "            lib.gpio_open(16)]\n",
    "\n",
    "for sw in switches:\n",
    "    sw.set_direction(lib.GPIO_OUT)\n",
    "    sw.write(1) # low for close switch"
   ]
  },
  {
   "cell_type": "code",
   "execution_count": 7,
   "id": "ad692956-da36-4cb5-b0a3-63d5d331ffdf",
   "metadata": {},
   "outputs": [],
   "source": [
    "LTC2662_CMD_POWER_DOWN_N = 0x40\n",
    "LTC2662_CMD_SPAN = 0x60\n",
    "LTC2662_CMD_WRITE_N_UPDATE_N = 0x30\n",
    "\n",
    "# function to transfer block through SPI\n",
    "def dac_write(cs_handle, dac_command, selected_dac, code):\n",
    "    tx_array = bytearray(4)\n",
    "    rx_array = bytearray(4)\n",
    "    \n",
    "    dac_code = bytearray(2)\n",
    "    dac_code[:] = bytearray(int.to_bytes(code, 2, 'little'))\n",
    "    \n",
    "    tx_array[0] = 0 # first byte is zero\n",
    "    tx_array[1] = dac_command | selected_dac # command is upper 4 bits, selected DAC is lower 4 bits\n",
    "    tx_array[2] = dac_code[1]\n",
    "    tx_array[3] = dac_code[0]\n",
    "    \n",
    "    cs_handle.write(0)\n",
    "    dac.transfer(tx_array, rx_array, 4) # 4 bytes data to read\n",
    "    cs_handle.write(1)\n",
    "    \n",
    "    fault_reg = rx_array[0]\n",
    "    \n",
    "    return fault_reg"
   ]
  },
  {
   "cell_type": "code",
   "execution_count": 8,
   "id": "c107896e-f614-4796-b691-cdc6d9ebe5ca",
   "metadata": {},
   "outputs": [],
   "source": [
    "def switch_control(sw, open_close):\n",
    "    \"\"\" Opens/closes switches in the switch arrays based on 'sw' argument\n",
    "        'open_close' = '1' is switch closed and '0' is switch open\n",
    "    \"\"\"\n",
    "    if(open_close):\n",
    "        switches[sw-1].write(0)\n",
    "    else:\n",
    "        switches[sw-1].write(1)\n",
    "\n",
    "def dac_config(channel, current_ref):\n",
    "    \"\"\" sets softspan range of all DACs based on 'current_ref'\n",
    "    \"\"\"\n",
    "    fault_reg = 0\n",
    "    \n",
    "    selected_dac = (channel - 1) % 5\n",
    "    \n",
    "    user_command = 0\n",
    "    \n",
    "    if(current_ref == 0):\n",
    "        user_command = 1\n",
    "    elif(current_ref == 1):\n",
    "        user_command = 2\n",
    "    elif(current_ref == 2):\n",
    "        user_command = 3\n",
    "    elif(current_ref == 3):\n",
    "        user_command = 4\n",
    "    elif(current_ref == 4):\n",
    "        user_command = 5\n",
    "    elif(current_ref == 5):\n",
    "        user_command = 6\n",
    "        \n",
    "    if(channel > 0 and channel <= 5):\n",
    "        fault_reg |= dac_write(cs_a, LTC2662_CMD_SPAN, selected_dac, user_command)\n",
    "    elif(channel > 5 and channel <= 10):\n",
    "        fault_reg |= dac_write(cs_b, LTC2662_CMD_SPAN, selected_dac, user_command)\n",
    "        \n",
    "    return fault_reg\n",
    "        \n",
    "def dac_channel_control(channel, on_off, current_code):\n",
    "    \"\"\" Switches on/off DAC channel indicated by 'channel' argument and considers both DACs\n",
    "        'channel' => 1->10\n",
    "        'on_off' => '1' is on and '0' is off\n",
    "        'current_code' => current value in DAC counts\n",
    "    \"\"\"\n",
    "    fault_reg = 0\n",
    "    \n",
    "    selected_dac = (channel - 1) % 5\n",
    "    \n",
    "    if(current_code == 0):\n",
    "        on_off = 0\n",
    "        \n",
    "    dac_code = current_code\n",
    "    \n",
    "    if(on_off):\n",
    "        if(channel > 0 and channel <= 5):\n",
    "            fault_reg |= dac_write(cs_a, LTC2662_CMD_WRITE_N_UPDATE_N, selected_dac, dac_code)\n",
    "        elif(channel > 5 and channel <= 10):\n",
    "            fault_reg |= dac_write(cs_b, LTC2662_CMD_WRITE_N_UPDATE_N, selected_dac, dac_code)            \n",
    "    else:\n",
    "        if(channel > 0 and channel <= 5):\n",
    "            fault_reg |= dac_write(cs_a, LTC2662_CMD_POWER_DOWN_N, selected_dac, 0)\n",
    "        elif(channel > 5 and channel <= 10):\n",
    "            fault_reg |= dac_write(cs_b, LTC2662_CMD_POWER_DOWN_N, selected_dac, 0)\n",
    "            \n",
    "    return fault_reg"
   ]
  },
  {
   "cell_type": "code",
   "execution_count": null,
   "id": "9e0e39e9-e94f-4bdb-b6f7-1484a31a4bb2",
   "metadata": {},
   "outputs": [],
   "source": [
    "# ALL SWITCHES OPEN\n",
    "for i in range(10):\n",
    "    switch_control(i+1, 0)"
   ]
  },
  {
   "cell_type": "code",
   "execution_count": 9,
   "id": "cf372107-8085-4f88-994b-b86f67d3e2a4",
   "metadata": {},
   "outputs": [],
   "source": [
    "# SWITCH OFF ALL DAC CHANNELS\n",
    "for i in range(10):\n",
    "    dac_channel_control(i+1, 0, 0)"
   ]
  },
  {
   "cell_type": "code",
   "execution_count": 10,
   "id": "ff17cc50-90da-488c-824b-ee764304d031",
   "metadata": {},
   "outputs": [],
   "source": [
    "# SET SOFTSPAN RANGE FOR ALL DACS\n",
    "for i in range(10):\n",
    "    dac_config(i+1, 5)"
   ]
  },
  {
   "cell_type": "markdown",
   "id": "ccf53f5f-ae3d-44dc-9c24-eca8b1bbc711",
   "metadata": {},
   "source": [
    "# Audio processing"
   ]
  },
  {
   "cell_type": "code",
   "execution_count": 11,
   "id": "f760e6f9-3c1d-42b7-bbf2-c3ea21bf469b",
   "metadata": {},
   "outputs": [],
   "source": [
    "pAudio = base.audio\n",
    "pAudio.set_volume(20)"
   ]
  },
  {
   "cell_type": "code",
   "execution_count": 12,
   "id": "4d440487-afb5-41b1-a27f-0431bb60abe2",
   "metadata": {},
   "outputs": [],
   "source": [
    "pAudio.select_line_in()"
   ]
  },
  {
   "cell_type": "code",
   "execution_count": 30,
   "id": "332ab3f0-a0f0-4e07-bdc6-a4845b41b0b3",
   "metadata": {
    "tags": []
   },
   "outputs": [
    {
     "data": {
      "application/vnd.jupyter.widget-view+json": {
       "model_id": "192d4ee0b1c444c0bbb0b727ccf4f790",
       "version_major": 2,
       "version_minor": 0
      },
      "text/plain": [
       "HBox(children=(FigureWidget({\n",
       "    'data': [{'hovertemplate': 'x=%{x}<br>y=%{y}<extra></extra>',\n",
       "              …"
      ]
     },
     "metadata": {},
     "output_type": "display_data"
    }
   ],
   "source": [
    "import numpy as np\n",
    "import plotly.express as px\n",
    "import plotly.graph_objs as go\n",
    "import ipywidgets as widgets\n",
    "\n",
    "time_to_run = 20\n",
    "sample_time = 0.2\n",
    "buffer_len = int(sample_time * 48000 * 2)\n",
    "\n",
    "# time domain plot\n",
    "buffer_signed = np.zeros(buffer_len)\n",
    "\n",
    "line = px.line(x = np.arange(0, buffer_len, 1),\n",
    "               y = buffer_signed)\n",
    "\n",
    "fig = go.FigureWidget(line, layout = go.Layout(xaxis = {'title' : 'sample'},\n",
    "                                      yaxis = {'title' : 'amplitude'}))\n",
    "fig.update_yaxes(\n",
    "    range=(-250000, 250000),\n",
    "    constrain='domain'\n",
    ")\n",
    "\n",
    "# freq domain\n",
    "buffer_ft = np.zeros(buffer_len)\n",
    "\n",
    "ft_mag_line = px.line(x = np.arange(0, buffer_len, 1),\n",
    "                      y = buffer_ft)\n",
    "\n",
    "fig_ft = go.FigureWidget(ft_mag_line)\n",
    "\n",
    "widgets.HBox(children=[fig, fig_ft])"
   ]
  },
  {
   "cell_type": "code",
   "execution_count": 31,
   "id": "2e1bf0f8-36b8-4721-abdb-45b1a0743860",
   "metadata": {
    "collapsed": true,
    "jupyter": {
     "outputs_hidden": true
    },
    "tags": []
   },
   "outputs": [
    {
     "name": "stdout",
     "output_type": "stream",
     "text": [
      "140.0\n",
      "0.0\n",
      "90.0\n",
      "5.0\n",
      "155.0\n",
      "150.0\n",
      "130.0\n",
      "140.0\n",
      "130.0\n",
      "50.0\n",
      "0.0\n",
      "5.0\n",
      "0.0\n",
      "50.0\n",
      "0.0\n",
      "115.0\n",
      "120.0\n",
      "130.0\n",
      "50.0\n",
      "0.0\n",
      "5.0\n",
      "0.0\n",
      "50.0\n",
      "350.0\n",
      "130.0\n",
      "125.0\n",
      "130.0\n",
      "130.0\n",
      "130.0\n",
      "120.0\n",
      "125.0\n",
      "130.0\n",
      "275.0\n",
      "280.0\n",
      "280.0\n",
      "275.0\n",
      "285.0\n",
      "495.0\n",
      "440.0\n",
      "440.0\n",
      "0.0\n",
      "5.0\n",
      "0.0\n",
      "0.0\n",
      "130.0\n",
      "130.0\n",
      "130.0\n",
      "0.0\n",
      "245.0\n",
      "0.0\n",
      "5.0\n",
      "0.0\n",
      "95.0\n",
      "200.0\n",
      "50.0\n",
      "0.0\n",
      "50.0\n",
      "0.0\n",
      "0.0\n",
      "5.0\n",
      "130.0\n",
      "50.0\n",
      "125.0\n",
      "130.0\n",
      "0.0\n",
      "95.0\n",
      "0.0\n",
      "5.0\n",
      "0.0\n",
      "0.0\n",
      "0.0\n",
      "0.0\n",
      "5.0\n",
      "0.0\n",
      "50.0\n",
      "0.0\n",
      "5.0\n",
      "0.0\n",
      "50.0\n",
      "0.0\n",
      "125.0\n",
      "130.0\n",
      "0.0\n",
      "0.0\n",
      "0.0\n",
      "5.0\n",
      "0.0\n",
      "130.0\n",
      "135.0\n",
      "5.0\n",
      "0.0\n",
      "200.0\n",
      "0.0\n",
      "5.0\n",
      "0.0\n",
      "240.0\n",
      "0.0\n",
      "110.0\n",
      "200.0\n",
      "615.0\n"
     ]
    }
   ],
   "source": [
    "uLED_freq_bins = np.arange(30, 3030, 30).reshape(10,10)\n",
    "\n",
    "for i in range(int(time_to_run / sample_time)):\n",
    "    pAudio.record(seconds=sample_time)\n",
    "    buffer_signed = (pAudio.buffer << 8).view(np.int32) >> 8\n",
    "    \n",
    "    fig.data[0].update({'y' : buffer_signed})\n",
    "    \n",
    "    # compute fft\n",
    "    ft = abs(np.fft.fft(buffer_signed))\n",
    "    fig_ft.data[0].update({'y' : buffer_signed})\n",
    "    \n",
    "    # get frequency\n",
    "    idx = np.where(ft == np.amax(ft[0:int(len(ft)/2)]))[0][0]\n",
    "    freq = np.fft.fftfreq(19200, d=1/48000)[idx] * 2 # times by 2...I think this is to do with not separating stereo channels..\n",
    "    print(freq)\n",
    "    \n",
    "    # control uLEDs\n",
    "    row = np.where(abs(uLED_freq_bins-freq) == np.amin(abs(uLED_freq_bins-freq)))[0][0]\n",
    "    col = np.where(abs(uLED_freq_bins-freq) == np.amin(abs(uLED_freq_bins-freq)))[1][0]\n",
    "\n",
    "    # SWITCH OFF ALL DAC CHANNELS\n",
    "    for i in range(10):\n",
    "        dac_channel_control(i+1, 0, 0)\n",
    "    # ALL SWITCHES OPEN\n",
    "    for i in range(10):\n",
    "        switch_control(i+1, 0)\n",
    "        \n",
    "    switch_control(row+1, 1)\n",
    "    dac_channel_control(col+1, 1, 2048)\n",
    "\n",
    "# SWITCH OFF ALL DAC CHANNELS\n",
    "for i in range(10):\n",
    "    dac_channel_control(i+1, 0, 0)\n",
    "# ALL SWITCHES OPEN\n",
    "for i in range(10):\n",
    "    switch_control(i+1, 0)"
   ]
  },
  {
   "cell_type": "code",
   "execution_count": null,
   "id": "9ae535b0-5eee-4ee7-a86b-26d9be2572b3",
   "metadata": {},
   "outputs": [],
   "source": []
  }
 ],
 "metadata": {
  "kernelspec": {
   "display_name": "Python 3",
   "language": "python",
   "name": "python3"
  },
  "language_info": {
   "codemirror_mode": {
    "name": "ipython",
    "version": 3
   },
   "file_extension": ".py",
   "mimetype": "text/x-python",
   "name": "python",
   "nbconvert_exporter": "python",
   "pygments_lexer": "ipython3",
   "version": "3.8.2"
  }
 },
 "nbformat": 4,
 "nbformat_minor": 5
}
